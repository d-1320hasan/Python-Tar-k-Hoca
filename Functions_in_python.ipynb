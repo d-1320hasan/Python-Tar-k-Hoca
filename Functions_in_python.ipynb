{
  "nbformat": 4,
  "nbformat_minor": 0,
  "metadata": {
    "colab": {
      "name": "Functions_in_python.ipynb",
      "provenance": [],
      "collapsed_sections": [],
      "include_colab_link": true
    },
    "kernelspec": {
      "name": "python3",
      "display_name": "Python 3"
    },
    "language_info": {
      "name": "python"
    }
  },
  "cells": [
    {
      "cell_type": "markdown",
      "metadata": {
        "id": "view-in-github",
        "colab_type": "text"
      },
      "source": [
        "<a href=\"https://colab.research.google.com/github/d-1320hasan/Python-Tar-k-Hoca/blob/main/Functions_in_python.ipynb\" target=\"_parent\"><img src=\"https://colab.research.google.com/assets/colab-badge.svg\" alt=\"Open In Colab\"/></a>"
      ]
    },
    {
      "cell_type": "code",
      "metadata": {
        "id": "9tnaQb4cmXsg"
      },
      "source": [
        "## Github colab baglantisi "
      ],
      "execution_count": null,
      "outputs": []
    },
    {
      "cell_type": "code",
      "metadata": {
        "id": "CA_vKdUKZDRG"
      },
      "source": [
        " ############            Functions "
      ],
      "execution_count": null,
      "outputs": []
    },
    {
      "cell_type": "code",
      "metadata": {
        "id": "YrrooPu7mbdN"
      },
      "source": [
        "# Temel olarak, bir  fonksiyon  bizim için mantık yürüten bir kod bloğudur, \n",
        "# örneğin bir metin yazdırır, bazı verileri siler veya bir sayının karesini alır. \n",
        "# Başka bir deyişle, bir fonksiyon , yalnızca çağrıldığında çalışan bir kod parçasıdır. "
      ],
      "execution_count": null,
      "outputs": []
    },
    {
      "cell_type": "code",
      "metadata": {
        "id": "2Cj8VPEPmbfY"
      },
      "source": [
        "# Fonksiyonlar kodlama sürecini basitleştirir, gereksiz mantığı önler \n",
        "# ve kodun takip edilmesini kolaylaştırır."
      ],
      "execution_count": null,
      "outputs": []
    },
    {
      "cell_type": "code",
      "metadata": {
        "id": "EYsfSI-lmbhJ"
      },
      "source": [
        "# Bazı durumlarda, kendi fonksiyonumuzu oluşturmamız gerekebilir. \n",
        "# Böylece olusturdugumuz bu function lar kodumuzdaki karışıklığı ortadan kaldırmaya \n",
        "# yardımcı olurlar. Cünkü bizi gereksiz tekrarlardan kurtarırlar. \n"
      ],
      "execution_count": null,
      "outputs": []
    },
    {
      "cell_type": "code",
      "metadata": {
        "id": "bY1ZA2rZmbjA"
      },
      "source": [
        "# Olusturdugumuz function i istedigimiz yer ve zamanda cagirabilir ve kullanabiliriz\n"
      ],
      "execution_count": null,
      "outputs": []
    },
    {
      "cell_type": "code",
      "metadata": {
        "id": "MmOMFr6Gmbk2"
      },
      "source": [
        "# Interview Question\n",
        "# S : Python'da fonksiyon nedir?\n",
        "# Bir fonksiyon, yalnızca çağrıldığında yürütülen bir kod bloğudur. \n",
        "# Bir Python func tanımlamak için def anahtar sözcüğü kullanılır.\n",
        "\n",
        "# a function is a piece of code that only runs when its name is called."
      ],
      "execution_count": null,
      "outputs": []
    },
    {
      "cell_type": "code",
      "metadata": {
        "id": "DHucvJshpQAO"
      },
      "source": [
        "###############               Calling a Function"
      ],
      "execution_count": null,
      "outputs": []
    },
    {
      "cell_type": "code",
      "metadata": {
        "id": "rsivvbijpQCk"
      },
      "source": [
        "# Bir func cagirma onu kullanma anlamina gelir."
      ],
      "execution_count": null,
      "outputs": []
    },
    {
      "cell_type": "code",
      "metadata": {
        "id": "qbsjilAApQEh"
      },
      "source": [
        "# Basit bir örnekle func yapisini görelim\n",
        "\n",
        "# multiply(no1, no2)\n",
        "\n",
        "# Burada multiply fonksiyonumuzun adidir. no1 ve no2 ise bu fonksiyonun \n",
        "\n",
        "# carpim islemi icin ihtiyac duydugu parametrelerdir. Cünkü carpim olmasi icin\n",
        "\n",
        "# en az iki parametreye ihtiyac vardir.\n",
        "\n",
        "# Birde argument tabiri vardir. Argumentlar ise parametreler arasindaki farki \n",
        "# detayli inceleyecegiz"
      ],
      "execution_count": null,
      "outputs": []
    },
    {
      "cell_type": "code",
      "metadata": {
        "id": "z9Rm22VBpQGk"
      },
      "source": [
        ""
      ],
      "execution_count": null,
      "outputs": []
    },
    {
      "cell_type": "code",
      "metadata": {
        "id": "jrF4v2e1pQIi"
      },
      "source": [
        ""
      ],
      "execution_count": null,
      "outputs": []
    },
    {
      "cell_type": "code",
      "metadata": {
        "id": "5w1y9dSWs1Yp"
      },
      "source": [
        "## ###########             Calling print() Function"
      ],
      "execution_count": null,
      "outputs": []
    },
    {
      "cell_type": "code",
      "metadata": {
        "id": "73NxqPI5s1bA",
        "colab": {
          "base_uri": "https://localhost:8080/"
        },
        "outputId": "6792739f-3a8d-40d0-dbc3-1307db32d1ae"
      },
      "source": [
        "# Print() fonksiyonunun calisma prensibini hepimiz cok iyi biliyoruz.\n",
        "\n",
        "# print olarak ismi yazilir ve yanina ()  parantez koyularak cagrilir.\n",
        "\n",
        "# Ve biz bu func icerisine arguman yazmak zorunda olmadigimiz gibi\n",
        "\n",
        "# birden cok argument da yazabiliriz.\n",
        "\n",
        "# For example:\n",
        "\n",
        "print()\n",
        "\n",
        "print(1, 2, \"Sivas\", 3 + 5j)\n",
        "\n",
        "print(\"Biz IT kursundayiz\")"
      ],
      "execution_count": null,
      "outputs": [
        {
          "output_type": "stream",
          "name": "stdout",
          "text": [
            "\n",
            "1 2 Sivas (3+5j)\n",
            "Biz IT kursundayiz\n"
          ]
        }
      ]
    },
    {
      "cell_type": "code",
      "metadata": {
        "id": "6gH8lCq4s1c4"
      },
      "source": [
        "# Soru :  (Bosluga ne gelmelidir)\n",
        "\n",
        "# You can enter or input data, known as .........   into a function and \n",
        "\n",
        "# it returns something good that you want. (a)"
      ],
      "execution_count": null,
      "outputs": []
    },
    {
      "cell_type": "code",
      "metadata": {
        "id": "XaLC-3IKuEQC"
      },
      "source": [
        ""
      ],
      "execution_count": null,
      "outputs": []
    },
    {
      "cell_type": "code",
      "metadata": {
        "id": "hHFrV_dUuEUP"
      },
      "source": [
        "##########         Built-in Functions   (yerlesik fonksiyonlar)"
      ],
      "execution_count": null,
      "outputs": []
    },
    {
      "cell_type": "code",
      "metadata": {
        "id": "PrgTLkWn1bmL"
      },
      "source": [
        "### Python da iki türlü function vardir.\n",
        "\n",
        "# Birincisi built in func dedigimiz python'in sürümlerinde gelistiriciler tarafindan\n",
        "\n",
        "# hazir olarak piyasaya sürülmüs ve bizim de hazir olarak kullandigimiz \n",
        "\n",
        "# print()  gibi functionlardir.\n",
        "\n",
        "\n",
        "# Ikincisi ise;  User-defined Functions dedigimiz kullanici tarafindan tanimlanan \n",
        "\n",
        "# functionlardir."
      ],
      "execution_count": null,
      "outputs": []
    },
    {
      "cell_type": "code",
      "metadata": {
        "id": "NheyYKe5uEXY"
      },
      "source": [
        "# Python da İstediğimiz bir şeyi yapabilecek bir işlev düşünüyorsak, \n",
        "\n",
        "# muhtemelen vardır. Sadece varlığından haberdar olmamız gerekiyor.\n",
        "\n",
        "# ve En son Python 3.9 sürümünde yerleşik functionlarin sayısı 69'dur\n",
        "\n",
        "# Bunlardan bazilari: print(), int(), list(), input(), range()"
      ],
      "execution_count": null,
      "outputs": []
    },
    {
      "cell_type": "code",
      "metadata": {
        "id": "Oynp1f_EuEaP"
      },
      "source": [
        "# Bu functionlarin bazilari \n",
        "\n",
        "# içindeki koşullu algoritmaya göre bool tür döndürür. Örnegin:\n",
        "\n",
        "# .all(iterable)     any(iterable)      callable(object)   "
      ],
      "execution_count": null,
      "outputs": []
    },
    {
      "cell_type": "code",
      "metadata": {
        "id": "wipwLq25s1gp"
      },
      "source": [
        "# Bazıları veri türlerini birbirine dönüştürmenize yardımcı olur. \n",
        "\n",
        "# Örneğin; bool(), float(), int()ve str()."
      ],
      "execution_count": null,
      "outputs": []
    },
    {
      "cell_type": "code",
      "metadata": {
        "id": "iZP-hS_dpQKh"
      },
      "source": [
        "# Bazıları, koleksiyon türlerini oluşturmanıza ve işlememize izin verir. \n",
        "\n",
        "# Mesela: dict(), list(), tuple(), set(), len(), frozenset(), zip(), \n",
        "\n",
        "# ve .filter(function, iterable) enumerate(iterable)"
      ],
      "execution_count": null,
      "outputs": []
    },
    {
      "cell_type": "code",
      "metadata": {
        "id": "-eskF-7N0inM"
      },
      "source": [
        "# Bazıları sayılarla islem yapar. Mesela: max(), min(), sum()ve round()."
      ],
      "execution_count": null,
      "outputs": []
    },
    {
      "cell_type": "code",
      "metadata": {
        "id": "vFyO4g7-0ipu"
      },
      "source": [
        "# Birde özel amaçlar için inşa edilmiş functionlar vardir. \n",
        "\n",
        "# Bunlar Bazı karmaşık uygulamalar yaparlar. \n",
        "\n",
        "# Örneğin:\n",
        "\n",
        "# .map(function, iterable)\n",
        "\n",
        "# eval(expression[, globals[, locals]])\n",
        "\n",
        "# sorted(iterable)\n",
        "\n",
        "# open()\n",
        "\n",
        "# dir([object])\n",
        "\n",
        "# hash()\n",
        "\n",
        "# help([object])"
      ],
      "execution_count": null,
      "outputs": []
    },
    {
      "cell_type": "code",
      "metadata": {
        "id": "iqn_CjpD0irp"
      },
      "source": [
        "## Interview Question :\n",
        "\n",
        "#  Python da Function nedir?  vvvvv"
      ],
      "execution_count": null,
      "outputs": []
    },
    {
      "cell_type": "code",
      "metadata": {
        "id": "VT0jL-wh0it-"
      },
      "source": [
        ""
      ],
      "execution_count": null,
      "outputs": []
    },
    {
      "cell_type": "code",
      "metadata": {
        "id": "A6eJ2-IM0iwE"
      },
      "source": [
        ""
      ],
      "execution_count": null,
      "outputs": []
    },
    {
      "cell_type": "code",
      "metadata": {
        "id": "sv37faX72gbY"
      },
      "source": [
        "# Bir fonksiyon, programın bir bölümü veya bir kez yazılan ve programda \n",
        "\n",
        "# istendiği zaman çalıştırılabilen bir kod bloğudur. \n",
        "\n",
        "# Func , geçerli bir isme, parametre listesine ve gövdeye(body ye) sahip bağımsız \n",
        "\n",
        "# ifadelerden oluşan bir bloktur. Functionlar, modüler görevleri gerçekleştirmek için \n",
        "\n",
        "# programlamayı daha işlevsel ve modüler hale getirir. Python, \n",
        "\n",
        "# görevleri tamamlamak için çeşitli yerleşik işlevler sağlar ve ayrıca \n",
        "\n",
        "# kullanıcının yeni işlevler oluşturmasına da olanak tanır. \n"
      ],
      "execution_count": null,
      "outputs": []
    },
    {
      "cell_type": "code",
      "metadata": {
        "id": "ZHZsaD0g2gc8"
      },
      "source": [
        "## Sorular (pre_class)\n",
        "\n",
        "# Which of the following statements is incorrect about functions?\n",
        "\n",
        "# Select one or more:\n",
        "\n",
        "# Functions make the code more complex\n",
        "\n",
        "\n",
        "# They make the code easier to follow\n",
        "\n",
        "\n",
        "# Functions simplify the coding process"
      ],
      "execution_count": null,
      "outputs": []
    },
    {
      "cell_type": "code",
      "metadata": {
        "id": "iW5XuNTf2gen"
      },
      "source": [
        "# Calling a function doesn’t mean using it. \n",
        "\n",
        "# Calling and using a function have different meanings.\n",
        "# Select one:\n",
        "# True\n",
        "# False"
      ],
      "execution_count": null,
      "outputs": []
    },
    {
      "cell_type": "code",
      "metadata": {
        "id": "BFNBgL5U2ggn"
      },
      "source": [
        ""
      ],
      "execution_count": null,
      "outputs": []
    },
    {
      "cell_type": "code",
      "metadata": {
        "id": "WaGLVYnd3bQD"
      },
      "source": [
        ""
      ],
      "execution_count": null,
      "outputs": []
    },
    {
      "cell_type": "code",
      "metadata": {
        "id": "I-KeC7jH3bXr"
      },
      "source": [
        "###########         Defining (Creating) a Function"
      ],
      "execution_count": null,
      "outputs": []
    },
    {
      "cell_type": "code",
      "metadata": {
        "id": "94Vgdddf3bau"
      },
      "source": [
        "## Bazen bir program yazarken, yerleşik functionlar bizim için yeterli olmayabilir. \n",
        "\n",
        "# Veya bazen programımızda tekrar tekrar bir kod bloğu kullanmamız gerekebilir. \n",
        "\n",
        "# Bu durumda kendi fuct imizi yazabiliriz. \n",
        "\n",
        "# Buna Python'da kullanıcı tanımlı func yani user-defined function denir . \n"
      ],
      "execution_count": null,
      "outputs": []
    },
    {
      "cell_type": "code",
      "metadata": {
        "id": "6asf0zuQ3bdU"
      },
      "source": [
        "#  Kendi func imizi olustururken yapi su sekildedir:\n",
        "\n",
        "#  def  functionname(parameter(s)):    # def, ingilizce definition dan gelir\n",
        "#  ----executionbody   \n",
        "\n",
        "## Dikkat etmemiz gereken hususlar\n",
        "\n",
        "# 1: anahtar kelime def func in adini tanimlar ve sonra 1 space birakilir\n",
        "# 2: functionname ve sonrasinda hemen normal parantez.\n",
        "# 3: colon :\n",
        "# 4: indentation(4 space)\n",
        "# 5: body"
      ],
      "execution_count": null,
      "outputs": []
    },
    {
      "cell_type": "code",
      "metadata": {
        "id": "6chUqY8H3bfv"
      },
      "source": [
        "# Sorular (bosluk a ne gelmeli)\n",
        "\n",
        "# The ........ introduces the name of the user-defined function. It must be followed by the \n",
        "# functionname and the parenthesized list of formal arguments. \n",
        "\n",
        "\n",
        "# When built-in functions are not enough, or when you need to use a block of code \n",
        "\n",
        "# in your program repeatedly, you write your own functions. \n",
        "\n",
        "# They are called user-defined functions\n",
        " "
      ],
      "execution_count": null,
      "outputs": []
    },
    {
      "cell_type": "code",
      "metadata": {
        "id": "ecxE9ac3U0gA"
      },
      "source": [
        "##   Main Principles of 'Defining' (tanimlamanin temel ilkeleri)"
      ],
      "execution_count": null,
      "outputs": []
    },
    {
      "cell_type": "code",
      "metadata": {
        "id": "WSAeUCOuU0iZ"
      },
      "source": [
        "# Pep 8 Kurallari burada da geçerlidir. Bu yüzden kelimeler arasında \n",
        "\n",
        "# alt çizgi kullanilmali ve küçük harflerle yazılmalıdır . \n",
        "\n",
        "# Parametreler isteğe bağlıdır, ancak parantezler DEĞİLDİR. () zorunludur\n",
        "\n",
        "# İki nokta üst üste,  kapanış parantezini takip eder ve fonksiyon gövdemizin \n",
        "\n",
        "# başlangıcını gösterir. Fonksiyonun kodları (yürütme gövdesi) def deyimin altına \n",
        "\n",
        "# girintili OLMALIDIR .\n",
        "\n",
        "\n",
        "\n",
        "## Önemli: Asagidaki örnekte eger biz print den önce bosluk vermezsek, bu durumda python, \n",
        "\n",
        "# func tanimlama isleminin sona erdigini düsünür ve \n",
        "\n",
        "# print ifadesini bizim function imiza dahil degilmis olarak algiladigindan \n",
        "\n",
        "# error aliriz"
      ],
      "execution_count": null,
      "outputs": []
    },
    {
      "cell_type": "code",
      "metadata": {
        "id": "Mnki5TZ5U0lc",
        "colab": {
          "base_uri": "https://localhost:8080/"
        },
        "outputId": "f39e29ac-2003-4b78-9787-c8544d69f4dd"
      },
      "source": [
        "## Örnek:\n",
        "\n",
        "def first_function(argument1, argument2):\n",
        "  print(argument1 ** 2 + argument2 ** 2)\n",
        "\n",
        "first_function(2, 3)\n"
      ],
      "execution_count": null,
      "outputs": [
        {
          "output_type": "stream",
          "name": "stdout",
          "text": [
            "13\n"
          ]
        }
      ]
    },
    {
      "cell_type": "code",
      "metadata": {
        "id": "_81nkCxpU0n2",
        "colab": {
          "base_uri": "https://localhost:8080/"
        },
        "outputId": "b96d6868-c9b4-42d9-9750-f78df7738b9e"
      },
      "source": [
        "## Simdi bir func tanimlayalim\n",
        "\n",
        "# Outputlarimiz nasil olur ?? \n",
        "\n",
        "def multiply(parameter1, parameter2):\n",
        "  print(parameter1 * parameter2)\n",
        "\n",
        "multiply(5, 5)\n",
        "\n",
        "multiply(5, \"Antalya \")\n",
        "\n",
        "multiply(-1, 5.5)"
      ],
      "execution_count": null,
      "outputs": [
        {
          "output_type": "stream",
          "name": "stdout",
          "text": [
            "25\n",
            "Antalya Antalya Antalya Antalya Antalya \n",
            "-5.5\n"
          ]
        }
      ]
    },
    {
      "cell_type": "code",
      "metadata": {
        "id": "ksf_7I62jQYs"
      },
      "source": [
        ""
      ],
      "execution_count": null,
      "outputs": []
    },
    {
      "cell_type": "code",
      "metadata": {
        "id": "T1WQMW79jQiZ"
      },
      "source": [
        ""
      ],
      "execution_count": null,
      "outputs": []
    },
    {
      "cell_type": "code",
      "metadata": {
        "id": "R5e86rItjQq3"
      },
      "source": [
        ""
      ],
      "execution_count": null,
      "outputs": []
    },
    {
      "cell_type": "code",
      "metadata": {
        "id": "DdpJ-fj0U0rA",
        "colab": {
          "base_uri": "https://localhost:8080/"
        },
        "outputId": "1a707a96-24ec-4017-d021-f7e910dbdff5"
      },
      "source": [
        "# Daha önce söyledigimiz gibi parametre olmadan da func tanimlayabiliriz\n",
        "\n",
        "# yani parantez ici bos function\n",
        "\n",
        "def ders_tekrari():\n",
        "  print(\"Biz ders tekrari yapiyoruz\")\n",
        "\n",
        "ders_tekrari()\n",
        "\n",
        "# önemli bir husus: biz en alt satirda ()  parantez acip kapatmazsak ne olur ??"
      ],
      "execution_count": null,
      "outputs": [
        {
          "output_type": "stream",
          "name": "stdout",
          "text": [
            "Biz ders tekrari yapiyoruz\n"
          ]
        }
      ]
    },
    {
      "cell_type": "code",
      "metadata": {
        "id": "uQCu1QCdU0t4"
      },
      "source": [
        ""
      ],
      "execution_count": null,
      "outputs": []
    },
    {
      "cell_type": "code",
      "metadata": {
        "id": "jCp8hALWU0wj"
      },
      "source": [
        ""
      ],
      "execution_count": null,
      "outputs": []
    },
    {
      "cell_type": "code",
      "metadata": {
        "id": "hKeu-1ZJdhNa"
      },
      "source": [
        "##########               Execution of a Function "
      ],
      "execution_count": null,
      "outputs": []
    },
    {
      "cell_type": "code",
      "metadata": {
        "id": "P_7EQmiUdhQI",
        "colab": {
          "base_uri": "https://localhost:8080/"
        },
        "outputId": "2200ce26-5860-4edb-8340-cbaf38781a65"
      },
      "source": [
        "## Bizler Program akışımızdaki fonksiyonların ürettiği çıktı ve \n",
        "\n",
        "# veri tiplerini daha sonra kullanabilmek için return anahtar kelimesine \n",
        "\n",
        "# def tanimlama kelimesine ihtiyac duyariz.\n",
        "\n",
        "def multiply1(argument1, argument2):\n",
        "  print(argument1 * argument2)\n",
        "\n",
        "def multiply2(argument1, argument2):\n",
        "  return (argument1 * argument2)\n",
        "\n",
        "multiply1(4, 5)           ### Önemli: Outputlara baktigimizda herhangi bir fark \n",
        "                          ##  göremeyiz. Ancak asagidaki hücrede ayni islemlerin\n",
        "multiply2(4, 5)            ## type ini inceleyelim\n"
      ],
      "execution_count": null,
      "outputs": [
        {
          "output_type": "stream",
          "name": "stdout",
          "text": [
            "20\n"
          ]
        },
        {
          "output_type": "execute_result",
          "data": {
            "text/plain": [
              "20"
            ]
          },
          "metadata": {},
          "execution_count": 7
        }
      ]
    },
    {
      "cell_type": "code",
      "metadata": {
        "id": "BU99jIejdhTW",
        "colab": {
          "base_uri": "https://localhost:8080/"
        },
        "outputId": "ad5f33d5-2bd2-4622-8050-d128e64b26ef"
      },
      "source": [
        "def multiply1(argument1, argument2):\n",
        "  print(argument1 * argument2)\n",
        "\n",
        "def multiply2(argument1, argument2):\n",
        "  return(argument1 * argument2)\n",
        "\n",
        "multiply1(4, 5)           \n",
        "\n",
        "multiply2(4, 5) \n",
        "\n",
        "\n",
        "print(type(multiply1(4, 5)))\n",
        "\n",
        "print(type(multiply2(4, 5)))  "
      ],
      "execution_count": null,
      "outputs": [
        {
          "output_type": "stream",
          "name": "stdout",
          "text": [
            "20\n",
            "20\n",
            "<class 'NoneType'>\n",
            "<class 'int'>\n"
          ]
        }
      ]
    },
    {
      "cell_type": "code",
      "metadata": {
        "id": "a5eAdeYQdhV8",
        "colab": {
          "base_uri": "https://localhost:8080/"
        },
        "outputId": "7925f617-9b64-4f80-f059-81dcc836c2f7"
      },
      "source": [
        "## string ile kullanim\n",
        "\n",
        "def multiply1(argument1, argument2):\n",
        "  print(argument1 * argument2)\n",
        "\n",
        "def multiply2(argument1, argument2):\n",
        "  return(argument1 * argument2)\n",
        "\n",
        "multiply1(4, \"Kayseri\")           \n",
        "multiply2(4, \"Kayseri\") \n",
        "\n",
        "print(type(multiply1(4, \"Kayseri\")))\n",
        "print(type(multiply2(4, \"Kayseri\")))"
      ],
      "execution_count": null,
      "outputs": [
        {
          "output_type": "stream",
          "name": "stdout",
          "text": [
            "KayseriKayseriKayseriKayseri\n",
            "KayseriKayseriKayseriKayseri\n",
            "<class 'NoneType'>\n",
            "<class 'str'>\n"
          ]
        }
      ]
    },
    {
      "cell_type": "code",
      "metadata": {
        "colab": {
          "base_uri": "https://localhost:8080/"
        },
        "id": "KGnJnubZvnnF",
        "outputId": "ac4cebf2-c531-4d40-a499-39b0f5140ab4"
      },
      "source": [
        "def meral(a, b):\n",
        "  return (a + b)\n",
        "\n",
        "print(meral(3, 4) + 7)"
      ],
      "execution_count": null,
      "outputs": [
        {
          "output_type": "stream",
          "name": "stdout",
          "text": [
            "14\n"
          ]
        }
      ]
    },
    {
      "cell_type": "code",
      "metadata": {
        "colab": {
          "base_uri": "https://localhost:8080/",
          "height": 223
        },
        "id": "cY4HvlzexPqJ",
        "outputId": "8eea3b43-7653-42f0-cec0-51311a2fca24"
      },
      "source": [
        "def meral(a, b):\n",
        "  print(a + b)\n",
        "\n",
        "print(meral(3, 4) + 7)"
      ],
      "execution_count": null,
      "outputs": [
        {
          "output_type": "stream",
          "name": "stdout",
          "text": [
            "7\n"
          ]
        },
        {
          "output_type": "error",
          "ename": "TypeError",
          "evalue": "ignored",
          "traceback": [
            "\u001b[0;31m---------------------------------------------------------------------------\u001b[0m",
            "\u001b[0;31mTypeError\u001b[0m                                 Traceback (most recent call last)",
            "\u001b[0;32m<ipython-input-19-70c392548e81>\u001b[0m in \u001b[0;36m<module>\u001b[0;34m()\u001b[0m\n\u001b[1;32m      2\u001b[0m   \u001b[0mprint\u001b[0m\u001b[0;34m(\u001b[0m\u001b[0ma\u001b[0m \u001b[0;34m+\u001b[0m \u001b[0mb\u001b[0m\u001b[0;34m)\u001b[0m\u001b[0;34m\u001b[0m\u001b[0;34m\u001b[0m\u001b[0m\n\u001b[1;32m      3\u001b[0m \u001b[0;34m\u001b[0m\u001b[0m\n\u001b[0;32m----> 4\u001b[0;31m \u001b[0mprint\u001b[0m\u001b[0;34m(\u001b[0m\u001b[0mmeral\u001b[0m\u001b[0;34m(\u001b[0m\u001b[0;36m3\u001b[0m\u001b[0;34m,\u001b[0m \u001b[0;36m4\u001b[0m\u001b[0;34m)\u001b[0m \u001b[0;34m+\u001b[0m \u001b[0;36m7\u001b[0m\u001b[0;34m)\u001b[0m\u001b[0;34m\u001b[0m\u001b[0;34m\u001b[0m\u001b[0m\n\u001b[0m",
            "\u001b[0;31mTypeError\u001b[0m: unsupported operand type(s) for +: 'NoneType' and 'int'"
          ]
        }
      ]
    },
    {
      "cell_type": "code",
      "metadata": {
        "colab": {
          "base_uri": "https://localhost:8080/"
        },
        "id": "mY2Cf1MOxjuq",
        "outputId": "44553663-d686-4334-9451-de8b99deefdd"
      },
      "source": [
        "def meral(a, b):\n",
        "  print(a + b)\n",
        "\n",
        "print(type(meral(3, 4))) "
      ],
      "execution_count": null,
      "outputs": [
        {
          "output_type": "stream",
          "name": "stdout",
          "text": [
            "7\n",
            "<class 'NoneType'>\n"
          ]
        }
      ]
    },
    {
      "cell_type": "code",
      "metadata": {
        "id": "y_FerH-rxPu2"
      },
      "source": [
        ""
      ],
      "execution_count": null,
      "outputs": []
    },
    {
      "cell_type": "code",
      "metadata": {
        "id": "e9tGqEk5vvBp"
      },
      "source": [
        "def multiply2(argument1, argument2):\n",
        "  return(argument1 * argument2)"
      ],
      "execution_count": null,
      "outputs": []
    },
    {
      "cell_type": "code",
      "metadata": {
        "id": "4d-Dwe_hvnyv"
      },
      "source": [
        ""
      ],
      "execution_count": null,
      "outputs": []
    },
    {
      "cell_type": "code",
      "metadata": {
        "id": "iRjq11JJmwXg"
      },
      "source": [
        "# Ortaya cikan sonuc:\n",
        "\n",
        "# Yani Kodlamamizin ilerleyen asamalarinda ihtiyaç duyduğumuzda ilk fonksiyonu \n",
        "\n",
        "# kullanamiyoruz. Cünkü sonuc olarak bize Nonetype döndürüyor.\n",
        "\n",
        "# Ancak return kullandigimizda ise , gelecekte ihtiyaç duyduğumuzda kullanabileceğimiz \n",
        "\n",
        "# tamsayı, float, string gibi veriler return eder. \n",
        "\n",
        "# Peki burada ileride ihtiyac duymaktan kasit nedir. Mesela \n",
        "\n",
        "# Bizler internet sitesi kullanicisindan yani user dan input ile veriler aliyoruz.\n",
        "\n",
        "# Ve hatirlarsaniz input func daima string döndürdügünden biz bu degerleri bazen\n",
        "\n",
        "# integer a yada float a dönüstürmek zorunda kaliyoruz.\n",
        "\n",
        "# Ama bizim veri tiplerimiz None type olmus olsa biz bu degerleri \n",
        "\n",
        "# Ne toplayabiliriz ne cikarabiliriz. Hicbir islem yapamayiz."
      ],
      "execution_count": null,
      "outputs": []
    },
    {
      "cell_type": "code",
      "metadata": {
        "id": "i0FQCla90_py",
        "colab": {
          "base_uri": "https://localhost:8080/"
        },
        "outputId": "2738ab14-39b7-4ebe-b55e-0444afea6f67"
      },
      "source": [
        "# degiskene Nonetype atama\n",
        "\n",
        "degisken = print(\"It can't be assigned to any variable\")\n",
        "print(degisken)\n",
        "\n",
        "### Dikkat:\n",
        "# Burada outputlari dikkatle incelersek; ikinci satirdaki kodumuzun outputunun \n",
        "# None oldugunu görecegiz. Bunun sebebi sudur: Biz Bir degere veri tipi None olan\n",
        "\n",
        "# bir deger atayamayiz. Iste print() func. Type i None olan bir veri döndürdügü icin\n",
        "\n",
        "# biz print()  func in outputunu variable a atayamadik."
      ],
      "execution_count": null,
      "outputs": [
        {
          "output_type": "stream",
          "name": "stdout",
          "text": [
            "It can't be assigned to any variable\n",
            "None\n"
          ]
        }
      ]
    },
    {
      "cell_type": "code",
      "metadata": {
        "id": "HRs0Eiej0_sF"
      },
      "source": [
        ""
      ],
      "execution_count": null,
      "outputs": []
    },
    {
      "cell_type": "code",
      "metadata": {
        "id": "csDT8i4udhYX",
        "colab": {
          "base_uri": "https://localhost:8080/",
          "height": 53
        },
        "outputId": "d1b282b8-a120-4579-b062-2e6f65440b39"
      },
      "source": [
        "##  Not: func cagirirken, tanimlama esnasinda kac adet parameter girildi ise\n",
        "# ayni sayida argument girilmelidir \n",
        "\n",
        "def multiply1(argument1, argument2):   \n",
        "  print(argument1 * argument2)\n",
        "\n",
        "def multiply2(argument1, argument2):\n",
        "  return(argument1 * argument2)\n",
        "\n",
        "multiply1(4, \"Izmir \")          \n",
        "\n",
        "multiply2(4, \"Izmir \") "
      ],
      "execution_count": null,
      "outputs": [
        {
          "output_type": "stream",
          "name": "stdout",
          "text": [
            "Izmir Izmir Izmir Izmir \n"
          ]
        },
        {
          "output_type": "execute_result",
          "data": {
            "application/vnd.google.colaboratory.intrinsic+json": {
              "type": "string"
            },
            "text/plain": [
              "'Izmir Izmir Izmir Izmir '"
            ]
          },
          "metadata": {},
          "execution_count": 26
        }
      ]
    },
    {
      "cell_type": "code",
      "metadata": {
        "colab": {
          "base_uri": "https://localhost:8080/"
        },
        "id": "nurpsQilyuqN",
        "outputId": "23174657-d537-4051-e854-871829d3337d"
      },
      "source": [
        "a = \"Onur\"\n",
        "print(a)  "
      ],
      "execution_count": null,
      "outputs": [
        {
          "output_type": "stream",
          "name": "stdout",
          "text": [
            "Onur\n"
          ]
        }
      ]
    },
    {
      "cell_type": "code",
      "metadata": {
        "id": "3guENtyNyuvu"
      },
      "source": [
        "True  "
      ],
      "execution_count": null,
      "outputs": []
    },
    {
      "cell_type": "code",
      "metadata": {
        "id": "6uJoSIxByuya"
      },
      "source": [
        "print()"
      ],
      "execution_count": null,
      "outputs": []
    },
    {
      "cell_type": "code",
      "metadata": {
        "id": "gG38iZJbhQzB"
      },
      "source": [
        "def carpma(argument1, argument2): \n",
        "  print(argument1 * argument2)\n",
        "\n",
        "carpma(4, \"Kayseri\")         \n",
        "\n",
        "## Attention: biz normalde print() yazdigimizda bunun rengini beyaz olarak degil\n",
        "\n",
        "# sari olarak görürüz. Cünkü bu siradan bir ifade degildir bir functiondir.\n",
        "\n",
        "# Bu nedenle def yaninda yazili olan carpma ifadesine dikkat edersek \n",
        "\n",
        "# onun rengi de saridir.\n",
        "\n",
        "# biz  carpma kelimesini python a tanitiyoruz ve bu kelime türkce olmasina ragmen\n",
        "\n",
        "# print kelimesi ile ayni statüye tasiyoruz."
      ],
      "execution_count": null,
      "outputs": []
    },
    {
      "cell_type": "code",
      "metadata": {
        "id": "8u8EfIjphQ09",
        "colab": {
          "base_uri": "https://localhost:8080/"
        },
        "outputId": "c80458a8-ec5f-4086-b61a-e37c3cd5492d"
      },
      "source": [
        "### Attention : Eger bir func tanimlama da birden fazla return var ise \n",
        "\n",
        "# sonuc ne olur ??\n",
        "\n",
        "def multiply2(argument1, argument2):\n",
        "  print(argument1 + argument2)\n",
        "  return(argument1 * argument2)       ##  ilk return de calismayi durdurur  \n",
        "  return(argument1 + argument2)       \n",
        "  return(argument1 - argument2) \n",
        "  print(argument1 + argument2)    \n",
        "          \n",
        "print(multiply2(10, 5))"
      ],
      "execution_count": null,
      "outputs": [
        {
          "output_type": "stream",
          "name": "stdout",
          "text": [
            "15\n",
            "50\n"
          ]
        }
      ]
    },
    {
      "cell_type": "code",
      "metadata": {
        "id": "jeKtTGELqErB"
      },
      "source": [
        ""
      ],
      "execution_count": null,
      "outputs": []
    },
    {
      "cell_type": "code",
      "metadata": {
        "id": "mVifddK4qFZi"
      },
      "source": [
        ""
      ],
      "execution_count": null,
      "outputs": []
    },
    {
      "cell_type": "code",
      "metadata": {
        "id": "MSeRHuf2jpK2",
        "colab": {
          "base_uri": "https://localhost:8080/"
        },
        "outputId": "c4a7fb56-d021-44f8-dbc7-5a09e84b22bc"
      },
      "source": [
        "### Peki bu durum print() de nasildir ????\n",
        "\n",
        "def multiply2(argument1, argument2):\n",
        "  print(argument1 * argument2)\n",
        "  print(argument1 + argument2)\n",
        "  print(argument1 - argument2)\n",
        "          \n",
        "multiply2(10, 5)"
      ],
      "execution_count": null,
      "outputs": [
        {
          "output_type": "stream",
          "name": "stdout",
          "text": [
            "50\n",
            "15\n",
            "5\n"
          ]
        }
      ]
    },
    {
      "cell_type": "code",
      "metadata": {
        "id": "dSvDX8PNjpOj"
      },
      "source": [
        "## Interview Question\n",
        "\n",
        "# Return etmek(döndürmek) ne demektir?\n",
        "\n",
        "# Q: What is the return keyword used for in Python?\n",
        "# The purpose of a function is to receive the inputs and return some output. \n",
        "\n",
        "# The return is a Python statement which we can use in a function \n",
        "\n",
        "# for sending a value back to its caller."
      ],
      "execution_count": null,
      "outputs": []
    },
    {
      "cell_type": "code",
      "metadata": {
        "id": "U6c5A6VDjpSv"
      },
      "source": [
        "####                preclass Youtube video "
      ],
      "execution_count": null,
      "outputs": []
    },
    {
      "cell_type": "code",
      "metadata": {
        "id": "WEZrhVebjpU9",
        "colab": {
          "base_uri": "https://localhost:8080/"
        },
        "outputId": "798b8d93-2d48-4d10-95af-dff970eb727c"
      },
      "source": [
        "# Eger kod yazarken bir yada birkac kod satirini birden cok kez\n",
        "\n",
        "# tekrar ediyorsak o zaman isimizi hizlandirmak ve pratiklestirmek icin\n",
        "\n",
        "# bu kod blogunu bir fonksiyona atayarak; ona her ihtiyacimiz oldugunda, sadece\n",
        "\n",
        "# olusturmus oldugumuz bu yeni fonksiyonu cagirabiliriz.\n",
        "\n",
        "#### Örnek bir kod:\n",
        "\n",
        "import datetime\n",
        " \n",
        "print(\"task completed\")           \n",
        "print(datetime.datetime.now()) \n",
        "print(\"merhaba\")\n",
        "\n",
        "                                 \n",
        "for x in range(0, 10):            \n",
        "  print(x)                        \n",
        "                                  \n",
        "print(\"task completed\")\n",
        "print(datetime.datetime.now())      #  Not: burada print kisimlarinin tüm kod blokumuzda\n",
        "print(\"merhaba\")                    # tekrar edildigi simule ediliyor             "
      ],
      "execution_count": null,
      "outputs": [
        {
          "output_type": "stream",
          "name": "stdout",
          "text": [
            "task completed\n",
            "2021-11-28 18:34:03.405289\n",
            "merhaba\n",
            "0\n",
            "1\n",
            "2\n",
            "3\n",
            "4\n",
            "5\n",
            "6\n",
            "7\n",
            "8\n",
            "9\n",
            "task completed\n",
            "2021-11-28 18:34:03.407361\n",
            "merhaba\n"
          ]
        }
      ]
    },
    {
      "cell_type": "code",
      "metadata": {
        "id": "S3N5FcuIjpWi",
        "colab": {
          "base_uri": "https://localhost:8080/"
        },
        "outputId": "c7960097-45e1-40f9-de79-9e56ce9b6448"
      },
      "source": [
        "def time():\n",
        "  print(\"task completed\")           \n",
        "  print(datetime.datetime.now())\n",
        "  print(\"hello\")         ###  buraya kadar func tanimladik.\n",
        "                            ## Buradan sonra normal günlük hayattan bir kod blogumuzu\n",
        "                           #  yaziyoruz olarak hayal  edelim\n",
        "time()                      ## ve yukaridaki kod ile bu hücredeki kodumuzu kiyas edelim\n",
        "\n",
        "for x in range(0, 10):            \n",
        "  print(x)\n",
        "\n",
        "time()\n",
        "\n",
        "for x in range(0, 10):            \n",
        "  print(x)\n",
        "\n",
        "time()"
      ],
      "execution_count": null,
      "outputs": [
        {
          "output_type": "stream",
          "name": "stdout",
          "text": [
            "task completed\n",
            "2021-11-28 18:38:37.516028\n",
            "hello\n",
            "0\n",
            "1\n",
            "2\n",
            "3\n",
            "4\n",
            "5\n",
            "6\n",
            "7\n",
            "8\n",
            "9\n",
            "task completed\n",
            "2021-11-28 18:38:37.518695\n",
            "hello\n",
            "0\n",
            "1\n",
            "2\n",
            "3\n",
            "4\n",
            "5\n",
            "6\n",
            "7\n",
            "8\n",
            "9\n",
            "task completed\n",
            "2021-11-28 18:38:37.521208\n",
            "hello\n"
          ]
        }
      ]
    },
    {
      "cell_type": "code",
      "metadata": {
        "colab": {
          "base_uri": "https://localhost:8080/"
        },
        "id": "9HKr3ind2Dk3",
        "outputId": "a9942e64-cefa-4d80-d491-a113f3baf688"
      },
      "source": [
        "def time():\n",
        "  print(\"task completed\")           \n",
        "  print(datetime.datetime.now())\n",
        "  print(\"hello\") \n",
        "  \n",
        "time()\n",
        "\n",
        "for x in range(0, 10):            \n",
        "  print(x)\n",
        "\n",
        "time()"
      ],
      "execution_count": null,
      "outputs": [
        {
          "output_type": "stream",
          "name": "stdout",
          "text": [
            "task completed\n",
            "2021-11-28 18:41:19.515897\n",
            "hello\n",
            "0\n",
            "1\n",
            "2\n",
            "3\n",
            "4\n",
            "5\n",
            "6\n",
            "7\n",
            "8\n",
            "9\n",
            "task completed\n",
            "2021-11-28 18:41:19.523184\n",
            "hello\n"
          ]
        }
      ]
    },
    {
      "cell_type": "code",
      "metadata": {
        "id": "SuBw2FAq2Dnw"
      },
      "source": [
        ""
      ],
      "execution_count": null,
      "outputs": []
    },
    {
      "cell_type": "code",
      "metadata": {
        "id": "KXFbts_VhQ2i"
      },
      "source": [
        "## Func kullanmanin bize sagladigi üc fayda:\n",
        "\n",
        "# 1: kodumuzu daha okunakli yapar\n",
        "\n",
        "# 2: isimizi pratiklestirir\n",
        "\n",
        "# 3: biz yazdigimiz kod da bir hata yapmis isek, kendi olusturdugumuz\n",
        "\n",
        "# func icerisinde degisiklik yaptigimizda bu func'i cagirdigimizda her satirda\n",
        "# degisiklik otomatik olacaktir.\n",
        "\n",
        "# Ancak func definition yapmayip da tüm satirlari tek tek el ile yazdiysak\n",
        "\n",
        "# o zaman tüm satirlarda tek tek degisiklik yapmak zorunda kalacaktik\n",
        "\n",
        "\n",
        "\n",
        "\n",
        " # Dikkat :Burada dikkat etmmeiz gereken  husus sudur:\n",
        "\n",
        "# func adi verirken hem kendimiz anlayacagimiz hem de baskalari anlayacak sekilde\n",
        "\n",
        "# isim verirsek, kodlamamizin cok ilerleyen satirlarinda unutma \n",
        "\n",
        "# yada yazdigimizi anlamama gibi sikintilar ortadan kalkmis olur\n",
        "\n",
        "\n",
        "# Bir diger husus ise; olusturdugumuz her function dan sonra bunun ne ise\n",
        "\n",
        "# yaradigini ve nerelerde kullanmak icin olusturdugumuzu aciklamak icin \n",
        "\n",
        "# birer comment yada docstring yazmamiz cok iyi olacaktir. \n",
        "\n",
        "# docstring yazimini ileride inceleyecegiz \n",
        "\n",
        "max()"
      ],
      "execution_count": null,
      "outputs": []
    },
    {
      "cell_type": "code",
      "metadata": {
        "id": "v0cbUIq_-0lM",
        "colab": {
          "base_uri": "https://localhost:8080/"
        },
        "outputId": "0b5e16a7-9fb8-4225-ec12-e033ddb64e15"
      },
      "source": [
        "## Eger datetime i bu sekilde kullanirsak print() satirinda ikinci kez\n",
        "\n",
        "# datetime prefix i ni kullanmaya ihtiyac duymayiz\n",
        "\n",
        "from datetime import datetime    #  1: modul   2: fonksiyon\n",
        "\n",
        "def time():\n",
        "  print(datetime.now())\n",
        "\n",
        "time()"
      ],
      "execution_count": null,
      "outputs": [
        {
          "output_type": "stream",
          "name": "stdout",
          "text": [
            "2021-11-28 18:43:58.266618\n"
          ]
        }
      ]
    },
    {
      "cell_type": "code",
      "metadata": {
        "colab": {
          "base_uri": "https://localhost:8080/"
        },
        "id": "iUzqp0EE4LBE",
        "outputId": "7820f3ae-68b4-4b63-ee82-3bed0d74b894"
      },
      "source": [
        "# today\n",
        "\n",
        "from datetime import datetime\n",
        "\n",
        "def time():\n",
        "  print(datetime.today())\n",
        "\n",
        "time()"
      ],
      "execution_count": null,
      "outputs": [
        {
          "output_type": "stream",
          "name": "stdout",
          "text": [
            "2021-11-28 18:45:19.991999\n"
          ]
        }
      ]
    },
    {
      "cell_type": "code",
      "metadata": {
        "id": "LUj28HIf41Sf"
      },
      "source": [
        ""
      ],
      "execution_count": null,
      "outputs": []
    },
    {
      "cell_type": "code",
      "metadata": {
        "id": "vZwYA_zu-0nH",
        "colab": {
          "base_uri": "https://localhost:8080/"
        },
        "outputId": "7807d5b9-5d70-4ffe-9180-674b09bf935d"
      },
      "source": [
        "## Simdi func i nerelerde kullanabilecegimizi daha detayli görelim:\n",
        "\n",
        "# Bir sirkette calisiyoruz ve bize bir task verildi.\n",
        "\n",
        "# Kullanicilarin isim ve soyisimlerini al.\n",
        "\n",
        "# Isim ve soyisimlerinin ilk harflerini bulan kodu yazalim ve bunlari bir\n",
        "\n",
        "# yerde depolayalim\n",
        "\n",
        "## Bu bizim normal olarak yazacagimiz bir kod blogudur\n",
        "\n",
        "first_name = input(\"Adinizi giriniz \")\n",
        "kisaltma1 = first_name[0:1]\n",
        "\n",
        "last_name = input(\"Adinizi giriniz \")\n",
        "kisaltma2 = last_name[0:1]\n",
        "\n",
        "print(\"Isim ve soyisminizin kisaltmasi: \", kisaltma1 + kisaltma2)"
      ],
      "execution_count": null,
      "outputs": [
        {
          "output_type": "stream",
          "name": "stdout",
          "text": [
            "Adinizi giriniz ali\n",
            "Adinizi giriniz kaya\n",
            "Isim ve soyisminizin kisaltmasi:  ak\n"
          ]
        }
      ]
    },
    {
      "cell_type": "code",
      "metadata": {
        "id": "SvYb9o-4-0pD",
        "colab": {
          "base_uri": "https://localhost:8080/"
        },
        "outputId": "174844f1-93f1-4658-aed9-c3220ddf79f5"
      },
      "source": [
        "### simdi bu kodumuzu bir func define ederek yapalim:\n",
        "\n",
        "def kisaltma(name):\n",
        "  kisa = name[0]\n",
        "  return(kisa)\n",
        "\n",
        "isim = input(\"isminizi giriniz \")\n",
        "isim_kisaltma = kisaltma(isim)  \n",
        "\n",
        "soyisim = input(\"soyadinizi giriniz \")\n",
        "soyisim_kisaltma = kisaltma(soyisim)\n",
        "\n",
        "print(\"isminizin ve soyisminizin kisaltmasi: \", isim_kisaltma + soyisim_kisaltma)"
      ],
      "execution_count": null,
      "outputs": [
        {
          "output_type": "stream",
          "name": "stdout",
          "text": [
            "isminizi giriniz ali\n",
            "soyadinizi giriniz kilic\n",
            "isminizin ve soyisminizin kisaltmasi:  a k\n"
          ]
        }
      ]
    },
    {
      "cell_type": "code",
      "metadata": {
        "colab": {
          "base_uri": "https://localhost:8080/",
          "height": 71
        },
        "id": "XJPTOrmp4_pD",
        "outputId": "d3abcbd2-e2b9-4eb0-ff74-28b6fb4a9ccf"
      },
      "source": [
        "def ahmet():\n",
        "  girdi = input(\"Lütfen adinizi giriniz\")\n",
        "  girdi = girdi[0]\n",
        "  girdi2 = input(\"lütfen soyisiminizi giriniz\")\n",
        "  girdi2 = girdi2[0]\n",
        "  return girdi + girdi2\n",
        "\n",
        "ahmet()   ##  return "
      ],
      "execution_count": null,
      "outputs": [
        {
          "name": "stdout",
          "output_type": "stream",
          "text": [
            "Lütfen adinizi girinizali\n",
            "lütfen soyisiminizi girinizkilic\n"
          ]
        },
        {
          "output_type": "execute_result",
          "data": {
            "application/vnd.google.colaboratory.intrinsic+json": {
              "type": "string"
            },
            "text/plain": [
              "'ak'"
            ]
          },
          "metadata": {},
          "execution_count": 59
        }
      ]
    },
    {
      "cell_type": "code",
      "metadata": {
        "id": "1lXEw9TW4_zX"
      },
      "source": [
        ""
      ],
      "execution_count": null,
      "outputs": []
    },
    {
      "cell_type": "code",
      "metadata": {
        "id": "cruTCoB4-0qz"
      },
      "source": [
        "###  Burada dikkatimizi birsey cekmesi gerekir:\n",
        "\n",
        "# def ile func tanimlarken def in altina direkt print(\"...\")  de diyebiliyoruz\n",
        "\n",
        "# yada def in altina bir degisken atiyoruz ve bu degiskeni print() et diyebiliyoruz\n",
        "\n",
        "# mesela yukaridaki örnegi degisken atamadan yapalim\n",
        "\n",
        "def kisaltma(name):\n",
        "  return (name[0])       ### burada degisken atamadik direkt return ettik\n",
        "\n",
        "isim = input(\"isminizi giriniz \")\n",
        "isim_kisaltma = kisaltma(isim)  \n",
        "\n",
        "soyisim = input(\"soyadinizi giriniz \")\n",
        "soyisim_kisaltma = kisaltma(soyisim)\n",
        "\n",
        "print(\"isminizin ve soyisminizin kisaltmasi: \", isim_kisaltma + soyisim_kisaltma)"
      ],
      "execution_count": null,
      "outputs": []
    },
    {
      "cell_type": "code",
      "metadata": {
        "id": "wDtGK6eyRKnI",
        "colab": {
          "base_uri": "https://localhost:8080/"
        },
        "outputId": "2502b001-8715-4cec-bfda-c6b7714c70c0"
      },
      "source": [
        "### mesela ileride bir tarihte kodumuzun arasinda kisaltmis oldugumuz \n",
        "\n",
        "# isim ve soyisim bloklarini büyük harfle yazdirmak istedik.\n",
        "\n",
        "# Bu durumda sadece kendimiz olusturdugumuz function daki kod da oynama \n",
        "\n",
        "# yapmamiz yeterlidir.\n",
        "\n",
        "#örnegin:\n",
        "\n",
        "def kisaltma(name):\n",
        "  kisa = name[0:1].upper()\n",
        "  return(kisa)      \n",
        "\n",
        "isim = input(\"isminizi giriniz: \")\n",
        "isim_kisaltma = kisaltma(isim)  \n",
        "\n",
        "soyisim = input(\"soyadinizi giriniz: \")\n",
        "soyisim_kisaltma = kisaltma(soyisim)\n",
        "\n",
        "print(\"isminizin ve soyisminizin kisaltmasi: \", isim_kisaltma + soyisim_kisaltma)"
      ],
      "execution_count": null,
      "outputs": [
        {
          "output_type": "stream",
          "name": "stdout",
          "text": [
            "isminizi giriniz: ali\n",
            "soyadinizi giriniz: kilic\n",
            "isminizin ve soyisminizin kisaltmasi:  AK\n"
          ]
        }
      ]
    },
    {
      "cell_type": "code",
      "metadata": {
        "id": "b3XgRsa9RKps"
      },
      "source": [
        "# olusturmus oldugumuz function i iki türlü kullanma sansina sahibiz\n",
        "\n",
        "### bu function i direkt olarak print icinde de calistirabiliriz\n",
        "\n",
        "def kisaltma(name):\n",
        "  kisa = name[0:1].upper()\n",
        "  return(kisa)  \n",
        "\n",
        "isim = input(\"isminizi giriniz: \") ## burada sadece input aldik yukaridaki gibi\n",
        "                                    # ismin kisaltmasini degiskene atamadik\n",
        "soyisim = input(\"soyadinizi giriniz: \")\n",
        "\n",
        "print(kisaltma(isim), kisaltma(soyisim)) \n",
        "\n",
        "## Yani kullanim asamasinda bizim tanimladigimiz function in \n",
        "\n",
        "# python da tanimli functionlardan hicbir farki yoktur."
      ],
      "execution_count": null,
      "outputs": []
    },
    {
      "cell_type": "code",
      "metadata": {
        "id": "K3SYn-SCGA44"
      },
      "source": [
        ""
      ],
      "execution_count": null,
      "outputs": []
    },
    {
      "cell_type": "code",
      "metadata": {
        "id": "zYXRphviGA7e"
      },
      "source": [
        "### check yourself sorulari\n",
        "\n",
        "# If you generate the output of a function using the print keyword, \n",
        "# the result will be a NoneType data. \n",
        "\n",
        "# But if you use the return keyword, the result will have a data type."
      ],
      "execution_count": null,
      "outputs": []
    },
    {
      "cell_type": "code",
      "metadata": {
        "id": "ePGFcI4MGA-L"
      },
      "source": [
        "# When built-in functions are not enough, or when you need to use a block of code \n",
        "# in your program repeatedly, you write your own functions. They are called \n",
        "# user-defined functions"
      ],
      "execution_count": null,
      "outputs": []
    },
    {
      "cell_type": "code",
      "metadata": {
        "id": "upRObPKiGBA4"
      },
      "source": [
        "# If there are more than one keyword return in a function, then the execution of that function \n",
        "# will end after the last return. (False)"
      ],
      "execution_count": null,
      "outputs": []
    },
    {
      "cell_type": "code",
      "metadata": {
        "id": "4GY4q8Z0GBEM",
        "colab": {
          "base_uri": "https://localhost:8080/"
        },
        "outputId": "10007f74-360f-4340-d93b-cdc87d6ce20e"
      },
      "source": [
        "# dikdörtgen alani hesaplayan bir func yaziniz:\n",
        "\n",
        "def alan(a, b):   # burada a ve b; kisa ve uzun kenar uzunluklaridir\n",
        "  return (a * b)\n",
        "\n",
        "alan(3, 4)"
      ],
      "execution_count": null,
      "outputs": [
        {
          "output_type": "execute_result",
          "data": {
            "text/plain": [
              "12"
            ]
          },
          "metadata": {},
          "execution_count": 61
        }
      ]
    },
    {
      "cell_type": "code",
      "metadata": {
        "id": "dzY4GOjRGBHe",
        "colab": {
          "base_uri": "https://localhost:8080/"
        },
        "outputId": "5b4cd89b-6005-478b-8f52-ad5f09094458"
      },
      "source": [
        "## Önce bir func tanimlayalim. Bu func icerisine liste gibi bir iterable alsin \n",
        "# daha sonra bu iterable' in elemanlari arasinda gezinerek en uzun olanini bulsun\n",
        "# ve en uzun elemani bize print etsin. \n",
        "\n",
        "# Daha sonra kullanicidan isimler isteyelim ve bu isimlerden hangisinin\n",
        "# en uzun oldugunu tanimladigimiz bu func vasitasi ile tespit edelim \n",
        "\n",
        "def fonksiyon(x):\n",
        "  counter = 0\n",
        "  enuzun = \"\"\n",
        "  for i in x:\n",
        "    if len(i) >= counter:\n",
        "      counter = len(i)\n",
        "      enuzun = i\n",
        "  print(\"Girdiginiz en uzun isim\", enuzun, \"ve\", counter, \"karakterdir\")\n",
        "\n",
        "\n",
        "girdi = list(map(str, input(\"Lütfen girmek istediginiz isimleri yaziniz: \")))\n",
        "\n",
        "fonksiyon(girdi)"
      ],
      "execution_count": null,
      "outputs": [
        {
          "output_type": "stream",
          "name": "stdout",
          "text": [
            "Lütfen girmek istediginiz isimleri yaziniz: tarik ali göksel\n",
            "Girdiginiz en uzun isim l ve 1 karakterdir\n"
          ]
        }
      ]
    },
    {
      "cell_type": "code",
      "metadata": {
        "colab": {
          "base_uri": "https://localhost:8080/"
        },
        "id": "J-PgUKWg_bRI",
        "outputId": "733a9bfe-2749-49e7-847c-00799b709274"
      },
      "source": [
        "girdi = list(map(int, input(\"Lütfen bir sayi giriniz: \").split()))\n",
        "\n",
        "print(girdi)"
      ],
      "execution_count": null,
      "outputs": [
        {
          "output_type": "stream",
          "name": "stdout",
          "text": [
            "Lütfen bir sayi giriniz: 5 10 15 20\n",
            "[5, 10, 15, 20]\n"
          ]
        }
      ]
    },
    {
      "cell_type": "code",
      "metadata": {
        "colab": {
          "base_uri": "https://localhost:8080/"
        },
        "id": "b_xg5BddEBg_",
        "outputId": "d7813c8d-1d6a-4f8c-fc5b-2f38400d1026"
      },
      "source": [
        "girdi = tuple(map(str, input(\"sayi girin\").split()))\n",
        "\n",
        "print(girdi)"
      ],
      "execution_count": null,
      "outputs": [
        {
          "output_type": "stream",
          "name": "stdout",
          "text": [
            "sayi girin256 300\n",
            "('256', '300')\n"
          ]
        }
      ]
    },
    {
      "cell_type": "code",
      "metadata": {
        "id": "ZCM-gFeKEBrM"
      },
      "source": [
        ""
      ],
      "execution_count": null,
      "outputs": []
    },
    {
      "cell_type": "code",
      "metadata": {
        "colab": {
          "base_uri": "https://localhost:8080/",
          "height": 133
        },
        "id": "q-PXF2cuC7v1",
        "outputId": "99a09c1b-8b7a-4d2f-d156-2a9585194649"
      },
      "source": [
        "def new(2, 3):  # parametre\n",
        "  return 2 * 3\n",
        "\n",
        "new(2, \"ahmet\") "
      ],
      "execution_count": null,
      "outputs": [
        {
          "output_type": "error",
          "ename": "SyntaxError",
          "evalue": "ignored",
          "traceback": [
            "\u001b[0;36m  File \u001b[0;32m\"<ipython-input-77-fb89de4e922e>\"\u001b[0;36m, line \u001b[0;32m1\u001b[0m\n\u001b[0;31m    def new(2, 3):  # parametre\u001b[0m\n\u001b[0m            ^\u001b[0m\n\u001b[0;31mSyntaxError\u001b[0m\u001b[0;31m:\u001b[0m invalid syntax\n"
          ]
        }
      ]
    },
    {
      "cell_type": "code",
      "metadata": {
        "id": "lc2sbXV_C7yV"
      },
      "source": [
        ""
      ],
      "execution_count": null,
      "outputs": []
    },
    {
      "cell_type": "code",
      "metadata": {
        "id": "FTyDDgmUC71B"
      },
      "source": [
        ""
      ],
      "execution_count": null,
      "outputs": []
    },
    {
      "cell_type": "code",
      "metadata": {
        "id": "ivF128TEC73G"
      },
      "source": [
        ""
      ],
      "execution_count": null,
      "outputs": []
    },
    {
      "cell_type": "code",
      "metadata": {
        "id": "9ML6Ij7rC75k"
      },
      "source": [
        ""
      ],
      "execution_count": null,
      "outputs": []
    },
    {
      "cell_type": "code",
      "metadata": {
        "colab": {
          "base_uri": "https://localhost:8080/"
        },
        "id": "eNwpzaq6_bTv",
        "outputId": "643909a4-389a-4daf-e6c4-751af7e14aad"
      },
      "source": [
        "girdi = input(\"Lütfen birden cok sayi giriniz: \").split()\n",
        "bos = []\n",
        "\n",
        "for i in girdi:\n",
        "  bos.append(int(i))\n",
        "\n",
        "print(bos)"
      ],
      "execution_count": null,
      "outputs": [
        {
          "output_type": "stream",
          "name": "stdout",
          "text": [
            "Lütfen birden cok sayi giriniz: 11 22 33 44 55\n",
            "[11, 22, 33, 44, 55]\n"
          ]
        }
      ]
    },
    {
      "cell_type": "code",
      "metadata": {
        "id": "Zvd4lk70GBP0"
      },
      "source": [
        ""
      ],
      "execution_count": null,
      "outputs": []
    },
    {
      "cell_type": "code",
      "metadata": {
        "id": "bRsw4cjZGBTB"
      },
      "source": [
        "###############       The Matter of Arguments     ###########"
      ],
      "execution_count": null,
      "outputs": []
    },
    {
      "cell_type": "code",
      "metadata": {
        "id": "xOEmmvNEGBVx"
      },
      "source": [
        "## argüman nedir parametre nedir ?\n",
        "# aslinda cok benzer seylerdir ama aralarinda bir fark vardir\n",
        "# Örnek ile aciklayalim"
      ],
      "execution_count": null,
      "outputs": []
    },
    {
      "cell_type": "code",
      "metadata": {
        "id": "tMROI3r4GBY_",
        "colab": {
          "base_uri": "https://localhost:8080/"
        },
        "outputId": "9c06faaa-4654-45e6-f993-d2c0d65e7eda"
      },
      "source": [
        "def kim(isim, soyisim): ###  Burada isim ve soyisim kim func'nin parametleridir\n",
        "  print(\"sizin isminiz ve soyisminiz \", isim, soyisim)\n",
        "  \n",
        "\n",
        "kim(\"Merve\", \"Kaplan\")     ###  Burada merve ve kaplan argümanlardir\n",
        "\n",
        "# Yani kisaca söylemek gerekirse; func'i tanimlayan kisinin yazdigi degiskenler, parametredir\n",
        "# func'i kullanan kisinin girdikleri ise argümanlar olur\n",
        "#  Bu durumu built in func larda da test edebiliriz.\n",
        "# mesela max() yazip bekledigimizde karsimiza cikan aciklamayi okuyabiliriz \n",
        "\n",
        "\n",
        "## Parametreler, func'i tanimlayan kisi tarafindan verilen \n",
        "# sadece bir isimden ibarettir. Herhangi bir isim yazilabilir.\n",
        "# ve parametre isimleri ve sayilari tanimlayici tarafindan\n",
        "# bir kez belirlendikten sonra artik sabittirler\n",
        "\n",
        "\n",
        " # Ancak argümanlar sürekli degisirler. Bizim tanimladigimiz\n",
        "# fonksiyonu kullanan user, argüman olarak ne girmek isterse\n",
        "# girebilir"
      ],
      "execution_count": null,
      "outputs": [
        {
          "output_type": "stream",
          "name": "stdout",
          "text": [
            "sizin isminiz ve soyisminiz  Merve Kaplan\n"
          ]
        }
      ]
    },
    {
      "cell_type": "code",
      "metadata": {
        "id": "BF0XGjO9GBbn"
      },
      "source": [
        "## Dikkat:\n",
        "\n",
        "# func tanimlayan kisi kac parametre belirledi ise, kullanici o kadar sayida\n",
        "# argüman girmek zorundadir. Aksi takdir de kodumuz calismaz"
      ],
      "execution_count": null,
      "outputs": []
    },
    {
      "cell_type": "code",
      "metadata": {
        "id": "0rcojAjFGBd8"
      },
      "source": [
        "# ### pre class soru\n",
        "\n",
        "# Look at the definition of a function given below.\n",
        "\n",
        "def who(first, last) :      \n",
        "  print('Your first name is :', first)\n",
        "  print('Your last name is :', last)\n",
        "\n",
        "who('Marry', 'Bold')\n",
        "\n",
        "# Which of the following statements is incorrect about this function?\n",
        "\n",
        "# Select one or more:\n",
        "\n",
        "# 'first' and 'last' are the parameters.\n",
        "# The first three lines are the function itself, and the \n",
        "# last line has been used to call the function.\n",
        "\n",
        "# This function has one parameter and it takes one argument.\n",
        "\n",
        "# 'Marry' and 'Bold' are the arguments."
      ],
      "execution_count": null,
      "outputs": []
    },
    {
      "cell_type": "code",
      "metadata": {
        "id": "i0-F-A1sAOwl"
      },
      "source": [
        ""
      ],
      "execution_count": null,
      "outputs": []
    },
    {
      "cell_type": "code",
      "metadata": {
        "id": "lM2DgHGgF-KI"
      },
      "source": [
        "#######   Correct Use of Arguments "
      ],
      "execution_count": null,
      "outputs": []
    },
    {
      "cell_type": "code",
      "metadata": {
        "id": "qq03uNSCF-M4",
        "colab": {
          "base_uri": "https://localhost:8080/"
        },
        "outputId": "b707a23a-a5f8-4800-ad31-ecd36556f191"
      },
      "source": [
        "# Bir fonksiyon cagirmada argümanlari kullanmanin 2 farkli yöntemi vardir\n",
        "# 1: Positional argument(konumsal)\n",
        "# 2: keyword arguments(kisaltmasi kwarg)\n",
        "\n",
        "# Aslında, su ana kadar öğrendiğimiz argümanlar konumsal olanlardır. \n",
        "# Bu argämanlarda, Argümanların konumu yani kullanim sirasi önemlidir. \n",
        "# Eger yerlerinde degisiklik yaparsak yada hatali yazarsak kodumuz calismaz yada\n",
        "# hatali calisir.\n",
        "\n",
        "# Konumsal argümanlarla bir fonksiyon çağırırken , bunlar soldan sağa sırayla iletilmelidir .\n",
        "\n",
        "# Konumsal argümanlara örnek:\n",
        "\n",
        "def pos_args(a, b):   ##  Burada a ve b konumsal argümanlardir ve yerleri degisir ise\n",
        "    print(a, 'is the first argument')     # kodumuz farkli bir output verir\n",
        "    print(b, 'is the second argument')\n",
        "\n",
        "pos_args(3,4)\n",
        "\n",
        "pos_args(4,3)"
      ],
      "execution_count": null,
      "outputs": [
        {
          "output_type": "stream",
          "name": "stdout",
          "text": [
            "3 is the first argument\n",
            "4 is the second argument\n",
            "4 is the first argument\n",
            "3 is the second argument\n"
          ]
        }
      ]
    },
    {
      "cell_type": "code",
      "metadata": {
        "id": "VZIPI953F-Oz",
        "colab": {
          "base_uri": "https://localhost:8080/"
        },
        "outputId": "68437d15-90eb-410b-8497-72552f456914"
      },
      "source": [
        "## diger bir örnek:\n",
        "\n",
        "def pos_args(a, b):   \n",
        "    print(a, 'is the first argument')     \n",
        "    print(b, 'is the second argument')\n",
        "    \n",
        "pos_args('first','second')  ##  bunlar da positional argümanlardir\n",
        "\n",
        "pos_args('second', 'first')"
      ],
      "execution_count": null,
      "outputs": [
        {
          "output_type": "stream",
          "name": "stdout",
          "text": [
            "first is the first argument\n",
            "second is the second argument\n",
            "second is the first argument\n",
            "first is the second argument\n"
          ]
        }
      ]
    },
    {
      "cell_type": "code",
      "metadata": {
        "id": "Fr2kksLHF-Qj"
      },
      "source": [
        ""
      ],
      "execution_count": null,
      "outputs": []
    },
    {
      "cell_type": "code",
      "metadata": {
        "id": "RxAmA78aF-Sm"
      },
      "source": [
        "#################       Keyword Arguments"
      ],
      "execution_count": null,
      "outputs": []
    },
    {
      "cell_type": "code",
      "metadata": {
        "id": "OTBNCFaiF-Ua"
      },
      "source": [
        "# Ne icin ve nasil kullanilirlar?\n",
        "\n",
        "# Bir işlevi çağırdığımızda argümanların pozisyonlarının \n",
        "# bizi kısıtlamasıni istemiyorsak, bu argümanları anahtar kelimelerle \n",
        "# çağıririz. Genel olarak ve geleneksel olarak,  kwargs  anahtar kelimesi\n",
        "#  keyword argümanlarının kısaltması olarak kullanılır "
      ],
      "execution_count": null,
      "outputs": []
    },
    {
      "cell_type": "code",
      "metadata": {
        "id": "TE_HTzIOF-Wi"
      },
      "source": [
        "# su sekilde formüle edilirler\n",
        "\n",
        "# kwargs = values."
      ],
      "execution_count": null,
      "outputs": []
    },
    {
      "cell_type": "code",
      "metadata": {
        "id": "FmHoMmaCF-YU",
        "colab": {
          "base_uri": "https://localhost:8080/"
        },
        "outputId": "52eccefa-88f8-4842-ad54-bf4e5154ad14"
      },
      "source": [
        "def who(first, last) :          \n",
        "  print('Your first name is :', first)\n",
        "  print('Your last name is :', last)\n",
        "\n",
        "who(first='Guido', last='van Rossum') \n",
        "\n",
        "# Burada func cagirirken sadece \"Guido\" ve \"van Rossum\" yazmis olsaydik\n",
        "# kodumuz yine calisacakti.\n",
        "# Ancak burada keyword argüman kullanmamizin amaci farkli. Asagidaki örnege bakalim"
      ],
      "execution_count": null,
      "outputs": [
        {
          "output_type": "stream",
          "name": "stdout",
          "text": [
            "Your first name is : Guido\n",
            "Your last name is : van Rossum\n"
          ]
        }
      ]
    },
    {
      "cell_type": "code",
      "metadata": {
        "id": "B54c0ezWF-ad",
        "colab": {
          "base_uri": "https://localhost:8080/"
        },
        "outputId": "625e7c94-b15a-4214-d7ed-2203c920adea"
      },
      "source": [
        "def who(first, last) :            \n",
        "  print('Your first name is :', first)\n",
        "  print('Your last name is :', last)\n",
        "\n",
        "who(last='kilic', first='ali')\n",
        "\n",
        "# Dikkat edersek burada  kullanici önce soyisim yazdi daha sonra isim.\n",
        "# Ama output a bakarsak önce isim sonra soyisim görülecektir.\n",
        "\n",
        "# iste bu durum positional argümanlarda söz konusu degildir. Orada önce ne\n",
        "# yazilir ise cikti olarak önce o alinir."
      ],
      "execution_count": null,
      "outputs": [
        {
          "output_type": "stream",
          "name": "stdout",
          "text": [
            "Your first name is : ali\n",
            "Your last name is : kilic\n"
          ]
        }
      ]
    },
    {
      "cell_type": "code",
      "metadata": {
        "id": "KunzTTSAF-cM"
      },
      "source": [
        "## Önemli:\n",
        "\n",
        "# Positional arguman kullaniminda kullanicinin girmesi gereken argümana;\n",
        "# required argument denir.\n",
        "\n",
        "\n",
        "# Keyword argüman kullaniminda ise;\n",
        "# optional arguments denir."
      ],
      "execution_count": null,
      "outputs": []
    },
    {
      "cell_type": "code",
      "metadata": {
        "id": "qQBRJ7OoF-eE",
        "colab": {
          "base_uri": "https://localhost:8080/"
        },
        "outputId": "d5d69823-28f9-4b52-a6f5-11782d02bf16"
      },
      "source": [
        "\n",
        "\n",
        "kus(\"dokunmak\")"
      ],
      "execution_count": null,
      "outputs": [
        {
          "output_type": "stream",
          "name": "stdout",
          "text": [
            "Bu kus cik cik etmedi\n",
            "Eger dokunmak yaparsaniz kus öter\n",
            "Bu kusun rengi Norvec mavisi\n",
            "Ve kusun tüyleri sert\n"
          ]
        }
      ]
    },
    {
      "cell_type": "code",
      "metadata": {
        "id": "nlC1JLCSF-gJ"
      },
      "source": [
        "# Burada ise kus func cagirmanin cesitli yöntemlerini inceleyegiz\n",
        "\n",
        "def kus(etki, tüyler='sert', action='cik cik', renk='Norvec mavisi'):\n",
        "    print(\"Bu kus\", action, \"etmedi\")\n",
        "    print(\"Eger\", etki, \"yaparsaniz\", \"kus öter\")\n",
        "    print(\"Bu kusun rengi\", renk)\n",
        "    print(\"Ve kusun tüyleri\", tüyler)\n",
        "\n",
        "kus(1000)                                          # 1 positional argument\n",
        "kus(etki=1000)                                  # 1 keyword argument\n",
        "kus(etki=1000000, action='VOOOOOM')             # 2 keyword arguments\n",
        "kus(action='VOOOOOM', etki=1000000)             # 2 keyword arguments  # Dikkat etki ve action yerleri degisti\n",
        "kus('a million', 'bereft of life', 'jump')         # 3 positional arguments\n",
        "kus('a thousand', tüyler='pushing up the daisies')  # 1 positional, 1 keyword\n",
        "\n",
        "# herbirini ayri bir hücrede inceleyelim"
      ],
      "execution_count": null,
      "outputs": []
    },
    {
      "cell_type": "code",
      "metadata": {
        "id": "t3VGUHt7F-iN",
        "colab": {
          "base_uri": "https://localhost:8080/"
        },
        "outputId": "f65b1433-86d5-421b-e6f9-70260d720dad"
      },
      "source": [
        "def kus(etki, tüyler='sert', action='cik cik', type='Norvec mavisi'):\n",
        "    print(\"Bu kus\", action, \"etmedi\")\n",
        "    print(\"Eger\", etki, \"yaparsaniz\", \"kus öter\")\n",
        "    print(\"Bu kusun rengi\", type)\n",
        "    print(\"Ve kusun tüyleri\", tüyler)\n",
        "\n",
        "kus(1000)  ### tek bir positional yazdigimizda etki olur"
      ],
      "execution_count": null,
      "outputs": [
        {
          "output_type": "stream",
          "name": "stdout",
          "text": [
            "Bu kus cik cik etmedi\n",
            "Eger 1000 yaparsaniz kus öter\n",
            "Bu kusun rengi Norvec mavisi\n",
            "Ve kusun tüyleri sert\n"
          ]
        }
      ]
    },
    {
      "cell_type": "code",
      "metadata": {
        "id": "SHHuPN_XLXlD",
        "colab": {
          "base_uri": "https://localhost:8080/"
        },
        "outputId": "37b78c19-c85b-4c40-a523-65685cc9a26e"
      },
      "source": [
        "def kus(etki, tüyler='sert', action='cik cik', type='Norvec mavisi'):\n",
        "    print(\"Bu kus\", action, \"etmedi\")\n",
        "    print(\"Eger\", etki, \"yaparsaniz\", \"kus öter\")\n",
        "    print(\"Bu kusun rengi\", type)\n",
        "    print(\"Ve kusun tüyleri\", tüyler)\n",
        "\n",
        "\n",
        "kus(etki=\"dokunmak\")    ### tek bir keyword argüman"
      ],
      "execution_count": null,
      "outputs": [
        {
          "output_type": "stream",
          "name": "stdout",
          "text": [
            "Bu kus cik cik etmedi\n",
            "Eger dokunmak yaparsaniz kus öter\n",
            "Bu kusun rengi Norvec mavisi\n",
            "Ve kusun tüyleri sert\n"
          ]
        }
      ]
    },
    {
      "cell_type": "code",
      "metadata": {
        "id": "RWXKtH97LXn7",
        "colab": {
          "base_uri": "https://localhost:8080/"
        },
        "outputId": "53ec9e64-e892-46ca-9577-89154f96c031"
      },
      "source": [
        "def kus(etki, tüyler='sert', action='cik cik', type='Norvec mavisi'):\n",
        "    print(\"Bu kus\", action, \"etmedi\")\n",
        "    print(\"Eger\", etki, \"yaparsaniz\", \"kus öter\")\n",
        "    print(\"Bu kusun rengi\", type)\n",
        "    print(\"Ve kusun tüyleri\", tüyler)\n",
        "\n",
        "\n",
        "kus(etki=\"dokunmak\", action='pir pir')   # 2 keyword"
      ],
      "execution_count": null,
      "outputs": [
        {
          "output_type": "stream",
          "name": "stdout",
          "text": [
            "Bu kus pir pir etmedi\n",
            "Eger dokunmak yaparsaniz kus öter\n",
            "Bu kusun rengi Norvec mavisi\n",
            "Ve kusun tüyleri sert\n"
          ]
        }
      ]
    },
    {
      "cell_type": "code",
      "metadata": {
        "id": "y9BedjTFLXq9",
        "colab": {
          "base_uri": "https://localhost:8080/"
        },
        "outputId": "2bd5927a-c183-4f02-c43b-d5ffb5a741fe"
      },
      "source": [
        "def kus(etki, tüyler='sert', action='cik cik', type='Norvec mavisi'):\n",
        "    print(\"Bu kus\", action, \"etmedi\")\n",
        "    print(\"Eger\", etki, \"yaparsaniz\", \"kus öter\")\n",
        "    print(\"Bu kusun rengi\", type)\n",
        "    print(\"Ve kusun tüyleri\", tüyler)\n",
        "\n",
        "\n",
        "kus(action='pir pir', etki=\"dokunmak\")  #yukaridakinin aynisi ama yerler degisik\n",
        "                                        # yerler degisik ama output ayni"
      ],
      "execution_count": null,
      "outputs": [
        {
          "output_type": "stream",
          "name": "stdout",
          "text": [
            "Bu kus pir pir etmedi\n",
            "Eger dokunmak yaparsaniz kus öter\n",
            "Bu kusun rengi Norvec mavisi\n",
            "Ve kusun tüyleri sert\n"
          ]
        }
      ]
    },
    {
      "cell_type": "code",
      "metadata": {
        "id": "xC1jOT-XLXtw",
        "colab": {
          "base_uri": "https://localhost:8080/"
        },
        "outputId": "5803c68c-d7dc-408f-8e51-d13864c42651"
      },
      "source": [
        "def kus(etki, tüyler='sert', action='cik cik', type='Norvec mavisi'):\n",
        "    print(\"Bu kus\", action, \"etmedi\")  \n",
        "    print(\"Eger\", etki, \"yaparsaniz\", \"kus öter\")\n",
        "    print(\"Bu kusun rengi\", type)\n",
        "    print(\"Ve kusun tüyleri\", tüyler)\n",
        "\n",
        "\n",
        "kus('dokunmak', 'yumusak', 'pir pir')\n",
        "\n",
        "#  Dikkat:   Biz burada hic positional arg. kullanmadik sadece keyword kullandik.\n",
        "# Peki burada python keyword argümanlari nasil siraladi ?\n",
        "\n",
        "#  1. satirdaki print() 3. siradaki argümani alip print ediyor\n",
        "#  2. satirdaki print() 1. siradaki argümani alip print ediyor\n",
        "#  3. satirdaki print() zaten type'i alip print ediyor\n",
        "#  4. satirdaki print() 2. siradaki argümani alip print ediyor\n",
        "\n",
        "# Burada asil dikkat etmemiz gereken husus sudur:\n",
        "# Biz tüm elemanlari string olarak yazdik. Ancak python bunlarin ilkini\n",
        "# positional argümana atadi. Digerlerini keywordlere atadi."
      ],
      "execution_count": null,
      "outputs": [
        {
          "output_type": "stream",
          "name": "stdout",
          "text": [
            "Bu kus pir pir etmedi\n",
            "Eger dokunmak yaparsaniz kus öter\n",
            "Bu kusun rengi Norvec mavisi\n",
            "Ve kusun tüyleri yumusak\n"
          ]
        }
      ]
    },
    {
      "cell_type": "code",
      "metadata": {
        "colab": {
          "base_uri": "https://localhost:8080/",
          "height": 223
        },
        "id": "iQpYwwFZOvmg",
        "outputId": "4fc0e213-bb4f-448a-86ff-3b504bd10b16"
      },
      "source": [
        "def ekrem(a, b):     # positional\n",
        "  return a, b\n",
        "\n",
        "print(ekrem())\n",
        "print(ekrem())"
      ],
      "execution_count": null,
      "outputs": [
        {
          "output_type": "error",
          "ename": "TypeError",
          "evalue": "ignored",
          "traceback": [
            "\u001b[0;31m---------------------------------------------------------------------------\u001b[0m",
            "\u001b[0;31mTypeError\u001b[0m                                 Traceback (most recent call last)",
            "\u001b[0;32m<ipython-input-111-8406b060d647>\u001b[0m in \u001b[0;36m<module>\u001b[0;34m()\u001b[0m\n\u001b[1;32m      2\u001b[0m   \u001b[0;32mreturn\u001b[0m \u001b[0ma\u001b[0m\u001b[0;34m,\u001b[0m \u001b[0mb\u001b[0m\u001b[0;34m\u001b[0m\u001b[0;34m\u001b[0m\u001b[0m\n\u001b[1;32m      3\u001b[0m \u001b[0;34m\u001b[0m\u001b[0m\n\u001b[0;32m----> 4\u001b[0;31m \u001b[0mprint\u001b[0m\u001b[0;34m(\u001b[0m\u001b[0mekrem\u001b[0m\u001b[0;34m(\u001b[0m\u001b[0;34m)\u001b[0m\u001b[0;34m)\u001b[0m\u001b[0;34m\u001b[0m\u001b[0;34m\u001b[0m\u001b[0m\n\u001b[0m\u001b[1;32m      5\u001b[0m \u001b[0mprint\u001b[0m\u001b[0;34m(\u001b[0m\u001b[0mekrem\u001b[0m\u001b[0;34m(\u001b[0m\u001b[0;34m)\u001b[0m\u001b[0;34m)\u001b[0m\u001b[0;34m\u001b[0m\u001b[0;34m\u001b[0m\u001b[0m\n",
            "\u001b[0;31mTypeError\u001b[0m: ekrem() missing 2 required positional arguments: 'a' and 'b'"
          ]
        }
      ]
    },
    {
      "cell_type": "code",
      "metadata": {
        "colab": {
          "base_uri": "https://localhost:8080/"
        },
        "id": "lneajomJOvpl",
        "outputId": "9e5f49e4-e1ee-4ff4-f0fb-6b21d9d34ebf"
      },
      "source": [
        "def ekrem(a = 3, b = 4):   ## keyword \n",
        "  return a, b\n",
        "\n",
        "print(ekrem(a = 8))"
      ],
      "execution_count": null,
      "outputs": [
        {
          "output_type": "stream",
          "name": "stdout",
          "text": [
            "(8, 4)\n"
          ]
        }
      ]
    },
    {
      "cell_type": "code",
      "metadata": {
        "id": "tKS8lILFLXxO"
      },
      "source": [
        "def kus(etki, tüyler='sert', action='cik cik', type='Norvec mavisi'):\n",
        "    print(\"Bu kus\", action, \"etmedi\")  \n",
        "    print(\"Eger\", etki, \"yaparsaniz\", \"kus öter\")\n",
        "    print(\"Bu kusun rengi\", type)\n",
        "    print(\"Ve kusun tüyleri\", tüyler)\n",
        "\n",
        "kus('pat pat', tüyler='mor')\n",
        "\n",
        "#  Dikkat: keyword olarak atadigimiz parametreler icin, func'i cagirirken \n",
        "# özellikle atama yapmazsak, output da default olani görürüz.\n",
        "\n",
        "# Yani biz func' i tanimlarken action = \"cik cik\" yazdiysak ve\n",
        "# func'i cagirirken tekrar action tanimlamadi isek bu durumda\n",
        "# default olan degismeyecektir."
      ],
      "execution_count": null,
      "outputs": []
    },
    {
      "cell_type": "code",
      "metadata": {
        "id": "T9IDeW21LX0T",
        "colab": {
          "base_uri": "https://localhost:8080/",
          "height": 223
        },
        "outputId": "52118545-bae2-4c45-967a-ecf37d10a86b"
      },
      "source": [
        "## Bu hücrede bulunan func cagirma yöntemlerinin hepsi yanlistir.\n",
        "\n",
        "def kus(etki, tüyler='sert', action='cik cik', type='Norvec mavisi'):\n",
        "    print(\"Bu kus\", action, \"etmedi\")  \n",
        "    print(\"Eger\", etki, \"yaparsaniz\", \"kus öter\")\n",
        "    print(\"Bu kusun rengi\", type)\n",
        "    print(\"Ve kusun tüyleri\", tüyler)\n",
        "\n",
        "\n",
        "# kus()                     # required argument missing \n",
        "#kus(etki = \"dokunmak\", 'dead')  # non-keyword argument after a keyword argument\n",
        "# kus(\"pat pat\", etki = \"tik tik\")     # duplicate value for the same argument\n",
        "kus(actor = 'John Cleese')  # unknown keyword argument"
      ],
      "execution_count": null,
      "outputs": [
        {
          "output_type": "error",
          "ename": "TypeError",
          "evalue": "ignored",
          "traceback": [
            "\u001b[0;31m---------------------------------------------------------------------------\u001b[0m",
            "\u001b[0;31mTypeError\u001b[0m                                 Traceback (most recent call last)",
            "\u001b[0;32m<ipython-input-117-097a1aab1ba4>\u001b[0m in \u001b[0;36m<module>\u001b[0;34m()\u001b[0m\n\u001b[1;32m     10\u001b[0m \u001b[0;31m# kus()                     # required argument missing\u001b[0m\u001b[0;34m\u001b[0m\u001b[0;34m\u001b[0m\u001b[0;34m\u001b[0m\u001b[0m\n\u001b[1;32m     11\u001b[0m \u001b[0;31m#kus(etki = \"dokunmak\", 'dead')  # non-keyword argument after a keyword argument\u001b[0m\u001b[0;34m\u001b[0m\u001b[0;34m\u001b[0m\u001b[0;34m\u001b[0m\u001b[0m\n\u001b[0;32m---> 12\u001b[0;31m \u001b[0mkus\u001b[0m\u001b[0;34m(\u001b[0m\u001b[0;34m\"pat pat\"\u001b[0m\u001b[0;34m,\u001b[0m \u001b[0metki\u001b[0m \u001b[0;34m=\u001b[0m \u001b[0;34m\"tik tik\"\u001b[0m\u001b[0;34m)\u001b[0m     \u001b[0;31m# duplicate value for the same argument\u001b[0m\u001b[0;34m\u001b[0m\u001b[0;34m\u001b[0m\u001b[0m\n\u001b[0m\u001b[1;32m     13\u001b[0m \u001b[0;31m# kus(actor = 'John Cleese')  # unknown keyword argument\u001b[0m\u001b[0;34m\u001b[0m\u001b[0;34m\u001b[0m\u001b[0;34m\u001b[0m\u001b[0m\n",
            "\u001b[0;31mTypeError\u001b[0m: kus() got multiple values for argument 'etki'"
          ]
        }
      ]
    },
    {
      "cell_type": "code",
      "metadata": {
        "id": "e_OCISLxLX3O"
      },
      "source": [
        "###  Attention\n",
        "\n",
        "# In a function call, keyword arguments must follow positional arguments."
      ],
      "execution_count": null,
      "outputs": []
    },
    {
      "cell_type": "code",
      "metadata": {
        "id": "n7kyMbEtLX6C"
      },
      "source": [
        ""
      ],
      "execution_count": null,
      "outputs": []
    },
    {
      "cell_type": "code",
      "metadata": {
        "id": "RbATx6d8LX9C"
      },
      "source": [
        "###  Special Arguments (Optional)   (Bu konu inclass da yok)"
      ],
      "execution_count": null,
      "outputs": []
    },
    {
      "cell_type": "code",
      "metadata": {
        "id": "S5S3KKKSLX_Q"
      },
      "source": [
        "# Resmi ilgili Python belgelerine göre: Varsayılan olarak, argümanlar \n",
        "# bir Python fonksiyonuna ya positional olarak ya da keyword ile iletilebilir.\n"
      ],
      "execution_count": null,
      "outputs": []
    },
    {
      "cell_type": "code",
      "metadata": {
        "id": "aLHCbKgOBfMN"
      },
      "source": [
        "# Okunabilirlik ve performans için, bir developer in öğelerin sadece konuma göre mi, \n",
        "# konuma veya anahtar kelimeye göre mi yoksa sadece anahtar kelimeye \n",
        "# göre mi iletildiğini belirlemek için yalnızca func tanımına bakması yeterli"
      ],
      "execution_count": null,
      "outputs": []
    },
    {
      "cell_type": "code",
      "metadata": {
        "id": "kCbYwFJ-LYBW"
      },
      "source": [
        "# burada / veya  * kullanimi isteğe bağlıdır. Kullanılırsa, bu semboller, \n",
        "# argümanların func'a nasıl iletilecegine göre parametre türünü belirtir: \n",
        "# 1: yalnızca positional , \n",
        "# 2: positional or keyword\n",
        "# 3: yalnızca keyword \n",
        "\n",
        "\n",
        "# Eger kullanilmazlarsa o zaman sadece iki secenek kalmaktadir:\n",
        "# 1:  sadece positional\n",
        "# 2:  sadece keyword \n"
      ],
      "execution_count": null,
      "outputs": []
    },
    {
      "cell_type": "code",
      "metadata": {
        "id": "lQrcvyp-F-kR"
      },
      "source": [
        "# Not:  Keyword argümanlar, bazi yerlerde \"named arguments\" yada \"named parameters\"\n",
        "\n",
        "# olarak da adlandirilirlar"
      ],
      "execution_count": null,
      "outputs": []
    },
    {
      "cell_type": "code",
      "metadata": {
        "id": "JnYLOxy3F-mR"
      },
      "source": [
        "#  Simdi bu 3 secenegi detayli inceleyelim\n",
        "\n",
        "#  1:  Positional-Only Arguments\n",
        "\n",
        "# Yalnızca  konumsalsa , parametrelerin sırası önemlidir ve \n",
        "# parametreler anahtar kelimeyle calismaz\n",
        "\n",
        "# Yalnızca konumsal parametreler bir / (eğik çizgi) önüne yerleştirilir . \n",
        "# Yalnızca konumsal parametreleri diğer parametrelerden ayırmak için \"/\" kullanılır. \n",
        "# Eger func tanımında \"/\" yoksa, yalnızca konumsal parametre yoktur demektir\n",
        "\n",
        "\n",
        "# \"/\" egik cizgiyi takip eden parametreler ise positional-or-keyword parametreler\n",
        "# yada sadece keyword parametreler olabilir"
      ],
      "execution_count": null,
      "outputs": []
    },
    {
      "cell_type": "code",
      "metadata": {
        "id": "0tPyUuaGC3Ax"
      },
      "source": [
        "# 2:   Keyword-Only Arguments  \n",
        "\n",
        "# Parametreleri yalnızca keyword olarak kullanmak için, \n",
        "# parametrelerin keyword tarafından iletilmesi gerektiğini belirtmemiz gerekir.\n",
        "# Peki bu islemi nasil yapariz??\n",
        "\n",
        "\n",
        "# func()'in sag tarafinda bulunan parantez icerisinde, kullanmak istedigimiz\n",
        "# keyword-only arguments'larin ilkinin önüne \"*\"  yerlestirilir"
      ],
      "execution_count": null,
      "outputs": []
    },
    {
      "cell_type": "code",
      "metadata": {
        "id": "nLI7pVtAC3G-"
      },
      "source": [
        "def mix(pos1, pos2, pos_or_kwrd,*, kwrd1, kwrd2):  # burada / kullanimina izin vermiyor\n",
        "  print(pos1, pos2, pos_or_kwrd, kwrd1, kwrd2)\n",
        "\n",
        "mix(\"a\", \"b\", pos_or_kwrd = \"c\", kwrd1 = \"d\", kwrd2 = \"e\")\n",
        "\n",
        "mix(\"a\", \"b\", \"c\", kwrd1 = \"d\", kwrd2 = \"e\")  # 3. eleman yazimi farkli olabilir\n",
        "\n",
        "mix(\"a\", pos2 = \"b\", pos_or_kwrd = \"c\", kwrd1 = \"d\", kwrd2 = \"e\")  \n",
        "\n",
        "## pos2'nin degeri keyword ile atanabilir ama pos1 atanamaz. Cünkü positional argümanlar \n",
        "# basa alinmak zorundadir. Eger pos1'in degerini keyword ile atamak istiyorsak pos2 de \n",
        "# keyword ile atanmalidir."
      ],
      "execution_count": null,
      "outputs": []
    },
    {
      "cell_type": "code",
      "metadata": {
        "id": "wjIgUZgmF-oj"
      },
      "source": [
        ""
      ],
      "execution_count": null,
      "outputs": []
    },
    {
      "cell_type": "code",
      "metadata": {
        "id": "Z7HeyDhNqnn7"
      },
      "source": [
        "##########     inclass       ###########"
      ],
      "execution_count": null,
      "outputs": []
    },
    {
      "cell_type": "code",
      "metadata": {
        "id": "MBfeP14mqnsf"
      },
      "source": [
        "# multiply(2, 3)  #  Burada multiply isim, 2 ve 3 ise argumanlardir\n",
        "\n",
        "# mesela print(\"Hello world\")  \n",
        "\n",
        "# burada print func ismi\n",
        "# Hello world ise argumandir"
      ],
      "execution_count": null,
      "outputs": []
    },
    {
      "cell_type": "code",
      "metadata": {
        "id": "hLXXorpUqnv1",
        "colab": {
          "base_uri": "https://localhost:8080/"
        },
        "outputId": "270a733d-ad6d-43fc-d024-57f95bc736c1"
      },
      "source": [
        "# Not: her func' in icerisine arguman yazmak zorunda degiliz.\n",
        "# Icerisine arguman almayan func'larda vardir\n",
        "\n",
        "# ama cogu func icine arguman alir\n",
        "\n",
        "def metin():\n",
        "  print(\"metin bey\")\n",
        "\n",
        "metin()"
      ],
      "execution_count": null,
      "outputs": [
        {
          "output_type": "stream",
          "name": "stdout",
          "text": [
            "metin bey\n"
          ]
        }
      ]
    },
    {
      "cell_type": "code",
      "metadata": {
        "id": "aDHNp_d9mLfC"
      },
      "source": [
        "#################       built in functions         ##############"
      ],
      "execution_count": null,
      "outputs": []
    },
    {
      "cell_type": "code",
      "metadata": {
        "id": "TzVJL7VHqnzN",
        "colab": {
          "base_uri": "https://localhost:8080/"
        },
        "outputId": "154117a4-569d-4efc-d9a6-532277d0e5b6"
      },
      "source": [
        "# all\n",
        "\n",
        "# and operatörü gibi calisir\n",
        "# ismi all oldugu icin herseyin true olmasini ister\n",
        "\n",
        "# eger bir tane bile False varsa False return eder\n",
        "# hepsi True ise True verir\n",
        "\n",
        "# Dikkat: bos eleman da True verir\n",
        "# False odakli calisir. False bulamadigi zaman bos bile olsa True verir\n",
        "\n",
        "\n",
        "# Kullanim alani: Cok uzun bir iterable imiz var ve biz bunun icerisinde \n",
        "# Falsy bir eleman olup olmadigini ögrenmek istiyoruz\n",
        "\n",
        "a = [1, 2, 3, 4, 5, 6, 7, 8, 9, 10, 11, 12, 13, 14, 15, 16, 16, 17, 18]\n",
        "b = [\"a\", \"b\", {}]\n",
        "c = {}\n",
        "\n",
        "print(all(a))\n",
        "print(all(b))\n",
        "print(all(c))\n",
        "\n",
        "d = all([1, 2, 3, 4])   # Bu sekilde degiskene atayarak da kullanilabilir \n",
        "print(d)"
      ],
      "execution_count": null,
      "outputs": [
        {
          "output_type": "stream",
          "name": "stdout",
          "text": [
            "True\n",
            "False\n",
            "True\n",
            "True\n"
          ]
        }
      ]
    },
    {
      "cell_type": "code",
      "metadata": {
        "colab": {
          "base_uri": "https://localhost:8080/"
        },
        "id": "q5uUaHkZTrlG",
        "outputId": "6b9a87c5-6f6a-4405-a504-fc759001be72"
      },
      "source": [
        ""
      ],
      "execution_count": null,
      "outputs": [
        {
          "output_type": "execute_result",
          "data": {
            "text/plain": [
              "True"
            ]
          },
          "metadata": {},
          "execution_count": 129
        }
      ]
    },
    {
      "cell_type": "code",
      "metadata": {
        "colab": {
          "base_uri": "https://localhost:8080/",
          "height": 169
        },
        "id": "LSLix3nNTrsM",
        "outputId": "3d72e39e-d657-4ef1-8f29-6d7e99999c31"
      },
      "source": [
        "all(\"tarik\")                 "
      ],
      "execution_count": null,
      "outputs": [
        {
          "output_type": "error",
          "ename": "TypeError",
          "evalue": "ignored",
          "traceback": [
            "\u001b[0;31m---------------------------------------------------------------------------\u001b[0m",
            "\u001b[0;31mTypeError\u001b[0m                                 Traceback (most recent call last)",
            "\u001b[0;32m<ipython-input-143-5b1a0315e390>\u001b[0m in \u001b[0;36m<module>\u001b[0;34m()\u001b[0m\n\u001b[0;32m----> 1\u001b[0;31m \u001b[0mall\u001b[0m\u001b[0;34m(\u001b[0m\u001b[0;34m\"tarik\"\u001b[0m\u001b[0;34m,\u001b[0m \u001b[0;34m\"ali\"\u001b[0m\u001b[0;34m)\u001b[0m\u001b[0;34m\u001b[0m\u001b[0;34m\u001b[0m\u001b[0m\n\u001b[0m",
            "\u001b[0;31mTypeError\u001b[0m: all() takes exactly one argument (2 given)"
          ]
        }
      ]
    },
    {
      "cell_type": "code",
      "metadata": {
        "id": "obdTsb0WKixL"
      },
      "source": [
        "# all() func iterable lar ile kullanilir.\n",
        "# Eger sadece tek bir elemanin falsy mi truthy mi oldugunu ögrenmek \n",
        "# istiyorsak o zaman bool() da kullanabiliriz all()  da\n",
        "\n",
        "# a = 1\n",
        "\n",
        "# print(all(a)) #  Burada output ne olur???\n",
        "\n",
        "\n",
        "b = [1]\n",
        "print(all(b))   #  Output lar nedir?\n",
        "\n",
        "\n",
        "c = []\n",
        "print(all(c))\n",
        "\n",
        "d = set()\n",
        "print(all(d))"
      ],
      "execution_count": null,
      "outputs": []
    },
    {
      "cell_type": "code",
      "metadata": {
        "id": "CbV0oXPjGc5U"
      },
      "source": [
        "# any\n",
        "\n",
        "# any() func ise or gibi calisir. Eger bir tane bile True varsa\n",
        "# True döndürür. Hepsi False ise False döndürür\n",
        "\n",
        "# Dikkat:  bos iterable da ise False döndürür\n",
        "\n",
        "a = [\"a\", \"n\", \"\"]\n",
        "b = [None, \"\", 0]\n",
        "c = set()\n",
        "\n",
        "print(any(a))\n",
        "print(any(b))\n",
        "print(any(c))"
      ],
      "execution_count": null,
      "outputs": []
    },
    {
      "cell_type": "code",
      "metadata": {
        "id": "TW0GCBuYedl4"
      },
      "source": [
        "listA = [\"susan\", \"tom\", False]\n",
        "listB = [None, (), 0]\n",
        "empty = {}               \n",
        "\n",
        "print(any(listA))\n",
        "print(any(listB))\n",
        "print(any(empty))"
      ],
      "execution_count": null,
      "outputs": []
    },
    {
      "cell_type": "code",
      "metadata": {
        "id": "iDwaQWbHedya"
      },
      "source": [
        ""
      ],
      "execution_count": null,
      "outputs": []
    },
    {
      "cell_type": "code",
      "metadata": {
        "id": "r2Cfep7sGc7d"
      },
      "source": [
        "# callable(object)"
      ],
      "execution_count": null,
      "outputs": []
    },
    {
      "cell_type": "code",
      "metadata": {
        "id": "gYKAgRrVGc_g"
      },
      "source": [
        "# filter(function, iterable)\n",
        "\n",
        "# Filter func icerisine bir func bir tane de iterable alir.\n",
        "\n",
        "# Buradaki func'i kendimiz de yapabiliriz yada built in func da kullanabiliriz\n",
        "\n",
        "# filter,  icerisine aldigi func'i iterable'in tüm elemanlarina uygular ve \n",
        "# sonrasinda True yada False döndürür. Dolayisi ile bize filter icerisinde \n",
        "# kullanmak icin True yada False döndürecek bir func lazimdir.\n",
        "\n",
        "\n",
        "# Bu func icerisine aldigi iterable'i yine icerisine aldigi func ile filtreden gecirir.\n",
        "\n",
        "# filter da ketum bir func' dir ve ayni zip gibi range gibi acmak icin birkac yola \n",
        "# ihtiyac duyar"
      ],
      "execution_count": null,
      "outputs": []
    },
    {
      "cell_type": "code",
      "metadata": {
        "id": "9B_ImfL5hax1"
      },
      "source": [
        "# eger biz filter func icerisine bir func degil de sadece None yazarsak\n",
        "# Bu durumda sadece Truety leri gecirir ve herhangi bir func'a ihtiyac duymaz.\n",
        "\n",
        "# Yani buradan cikan sonuc sudur:\n",
        "\n",
        "# filter()  iki sekilde kullanilabilir. \n",
        "\n",
        "# Birincisi filter(func(), iterable)\n",
        "\n",
        "# ikincisi filter(None, iterable)"
      ],
      "execution_count": null,
      "outputs": []
    },
    {
      "cell_type": "code",
      "metadata": {
        "id": "xmn3MWm_h58G"
      },
      "source": [
        "a = [1, 2, 3, 4, 5, 6, 0, None, False]\n",
        "b = list(filter(None, a))\n",
        "\n",
        "print(\"Filtrelenmis elemanlar sunlardir: \", b)"
      ],
      "execution_count": null,
      "outputs": []
    },
    {
      "cell_type": "code",
      "metadata": {
        "id": "YkDHkQUbh5-3"
      },
      "source": [
        "# for döngüsü ile kullanim:\n",
        "\n",
        "a = [1, 2, 3, 4, 5, 6, 0, None, False]\n",
        "b = list(filter(None, a))\n",
        "\n",
        "for i in b:\n",
        "  print(i, end = \" \")\n",
        "print(type(i))"
      ],
      "execution_count": null,
      "outputs": []
    },
    {
      "cell_type": "code",
      "metadata": {
        "id": "oJB5T_X1h6A5"
      },
      "source": [
        "# Önemli:  all() func da filter()  gibi True yada False döndürür. \n",
        "# Ancak arada büyük bir fark vardir.\n",
        "\n",
        "# all() icerisine bir iterable alir ve bu iterable' in tüm elemanlarina bakar,\n",
        "# eger bir tane bile Falsy varsa False döndürür. Yani sonuc True yada False' dur.\n",
        "\n",
        "# Ancak filter da ise yine iterable'in tüm elemanlari süzgecten gecirilir. Ancak,\n",
        "# sonuc olarak elemanlarin kendisi döndürülür. Yani filter, output olarak;\n",
        "# Truthy degerlerden olusan bir iterable döndürür."
      ],
      "execution_count": null,
      "outputs": []
    },
    {
      "cell_type": "code",
      "metadata": {
        "id": "lRgIziN4jHvJ"
      },
      "source": [
        "a = [1, 2, 3, 4, 5, 6, 0]\n",
        "print(any(a))"
      ],
      "execution_count": null,
      "outputs": []
    },
    {
      "cell_type": "code",
      "metadata": {
        "id": "ssce_3oGzYxx"
      },
      "source": [
        ""
      ],
      "execution_count": null,
      "outputs": []
    },
    {
      "cell_type": "code",
      "metadata": {
        "id": "Zbj1FvPgjHxR"
      },
      "source": [
        "## filter func'in bir fonksiyon ile kullanimi\n",
        "\n",
        "def cift(iterable):       ## Burada cift sayilari bulan bir func tanimliyoruz\n",
        "  c = []\n",
        "  for i in iterable:\n",
        "    if int(i) % 2 == 0:\n",
        "      c.append(i)\n",
        "  return c\n",
        "\n",
        "a = [\"1\", \"2\", \"3\", \"0\"]\n",
        "\n",
        "d = list(filter(cift, a))       ## Burada ise listeyi filtreden geciriyoruz\n",
        "\n",
        "print(d)                      "
      ],
      "execution_count": null,
      "outputs": []
    },
    {
      "cell_type": "code",
      "metadata": {
        "id": "-KKoj9m9pS_m"
      },
      "source": [
        ""
      ],
      "execution_count": null,
      "outputs": []
    },
    {
      "cell_type": "code",
      "metadata": {
        "id": "_jv5ORTzGdBE"
      },
      "source": [
        "# enumerate()\n",
        "\n",
        "# icerisine iterable alir ve ana yapisi su sekildedir.\n",
        "\n",
        "# enumerate(iterable, start)\n",
        "\n",
        "# start' in defaultu 0 dir ama biz bunu degistirebiliriz. Start'a kac yazarsak\n",
        "# o numaradan baslar ve artarak gider \n",
        "\n",
        "# bu func da zip()  gibi ketumdur. output olarak bir enumerate object döndürür.\n",
        "# Bu nedenle biz bu func'i acmak zorunda kaliriz.\n",
        "\n",
        "# Her bir eleman ile sayi eslestirmesi yapar ve bu ciftlerin herbirini\n",
        "# bir tuple'a dönüstürür."
      ],
      "execution_count": null,
      "outputs": []
    },
    {
      "cell_type": "code",
      "metadata": {
        "id": "Ocf_YndErT8V"
      },
      "source": [
        "liste = [\"a\", \"b\", \"c\", \"d\"]\n",
        "new = enumerate(liste, 1)\n",
        "print(new)       \n",
        "\n",
        "new2 = list(enumerate(liste, 1))\n",
        "print(new2)\n",
        "print(type(new2[0])) "
      ],
      "execution_count": null,
      "outputs": []
    },
    {
      "cell_type": "code",
      "metadata": {
        "id": "FPHl1HrbrT_1"
      },
      "source": [
        "#  enumerate func() ciftler olusturarark tuple meydana getirdigi icin,\n",
        "# dict func ile kullanima cok uygundur.\n",
        "\n",
        "liste = [\"a\", \"b\", \"c\", \"d\"]\n",
        "new = enumerate(liste, 1)\n",
        "print(new)        \n",
        "\n",
        "new2 = dict(enumerate(liste, 1))\n",
        "print(new2)"
      ],
      "execution_count": null,
      "outputs": []
    },
    {
      "cell_type": "code",
      "metadata": {
        "id": "Fq5TRzIarUCn"
      },
      "source": [
        ""
      ],
      "execution_count": null,
      "outputs": []
    },
    {
      "cell_type": "code",
      "metadata": {
        "id": "wQV4N75wGdDK"
      },
      "source": [
        "# max()   \n",
        "\n",
        "# icerisine hem iterable alarak calisir hem de iterable almadan birden cok argument\n",
        "# alarak calisir.\n",
        "\n",
        "liste = [1, 2, 3, 4, 5]    #  iterable ile kullanim\n",
        "print(max(liste))"
      ],
      "execution_count": null,
      "outputs": []
    },
    {
      "cell_type": "code",
      "metadata": {
        "colab": {
          "base_uri": "https://localhost:8080/"
        },
        "id": "4v8Sg7LPwJ1X",
        "outputId": "15902936-fb19-43f2-8f00-726b11e23c7b"
      },
      "source": [
        "print(max(1, 2, 3, 4, 5))   # birden cok arguman ile kullanim"
      ],
      "execution_count": null,
      "outputs": [
        {
          "output_type": "stream",
          "name": "stdout",
          "text": [
            "5\n"
          ]
        }
      ]
    },
    {
      "cell_type": "code",
      "metadata": {
        "id": "EV4kX9-HwUoh"
      },
      "source": [
        "# output nedir ???\n",
        "\n",
        "liste1 = [1, 2, 3, 4, 5]\n",
        "liste2 = [6, 7, 8, 9, 10]\n",
        "liste3 = [11, 12, 13, 14, 15]\n",
        "\n",
        "print(max(liste1, liste2, liste3))  "
      ],
      "execution_count": null,
      "outputs": []
    },
    {
      "cell_type": "code",
      "metadata": {
        "id": "iZf3mCqCBy1q"
      },
      "source": [
        ""
      ],
      "execution_count": null,
      "outputs": []
    },
    {
      "cell_type": "code",
      "metadata": {
        "id": "VjG2nP5IwzSU"
      },
      "source": [
        "# stringlerden olusan bir iterable' da max() func hareket tarzi:\n",
        "\n",
        "liste = [\"a\"]\n",
        "liste2 = [\"a\", \"b\"]\n",
        "liste3 = [\"a\", \"b\", \"c\"]\n",
        "\n",
        "print(max(liste, liste2, liste3))"
      ],
      "execution_count": null,
      "outputs": []
    },
    {
      "cell_type": "code",
      "metadata": {
        "id": "PH8-7pDawJ4G"
      },
      "source": [
        "#  max()  func eger bos bir iterable ile calistirilirsa ne döndürür ? \n",
        "\n",
        "a = []\n",
        "print(a)"
      ],
      "execution_count": null,
      "outputs": []
    },
    {
      "cell_type": "code",
      "metadata": {
        "id": "mIX0pIJ5wJ6f"
      },
      "source": [
        "## output ???\n",
        "\n",
        "a = max(\"ahmet AHMET 12345\")\n",
        "print(a)"
      ],
      "execution_count": null,
      "outputs": []
    },
    {
      "cell_type": "code",
      "metadata": {
        "id": "WFgeBGxMIWK_"
      },
      "source": [
        "# Kullanicidan bir cümle alalim ve bunun en uzun kelimesini yazdiralim\n",
        "# tarzinda sorularda max func() kullanabiliriz.\n",
        "\n",
        "girdi = input(\"Lütfen bir cümle giriniz: \").split()\n",
        "bos = []\n",
        "for i in girdi:\n",
        "  bos.append(len(i))\n",
        "  enuzun = max(bos)\n",
        "  enkisa = min(bos)\n",
        "\n",
        "print(enuzun)\n",
        "print(enkisa)"
      ],
      "execution_count": null,
      "outputs": []
    },
    {
      "cell_type": "code",
      "metadata": {
        "id": "7qCZRgjPGdEz"
      },
      "source": [
        "# min\n",
        "\n",
        "# max()  icin gecerli olan tüm özellikler min icin de gecerlidir. Sadece max'dan \n",
        "# farkli olarak en kücükleri return eder "
      ],
      "execution_count": null,
      "outputs": []
    },
    {
      "cell_type": "code",
      "metadata": {
        "id": "B9Tr9EW1GdG4"
      },
      "source": [
        "# sum \n",
        "\n",
        "# bu func() sayilar ile calisir. sayi disindaki veri tiplerini reddeder.\n",
        "# Dikkat: max ve min de sayilar ile calisir ama string gibi \n",
        "# diger veri tipleri ile de calistirilabilir.\n",
        "\n",
        "# ana yapi su sekilde kurulur:\n",
        "# sum(iterable, start)\n",
        "\n",
        "# eger start bos birakilir ise toplamaya default olarak 0 dan baslar. Start yazilir ise\n",
        "# start degerinden baslar.\n",
        "\n",
        "#  Eger bu func ile bos bir iterable kullanilir ise bu durumda\n",
        "# start degeri döndürülür"
      ],
      "execution_count": null,
      "outputs": []
    },
    {
      "cell_type": "code",
      "metadata": {
        "id": "4ys8GtQNKTzR"
      },
      "source": [
        "a = [1, 4, 6, 7, 9, 10]\n",
        "\n",
        "print(sum(a))\n",
        "\n",
        "print(sum(a, 10))"
      ],
      "execution_count": null,
      "outputs": []
    },
    {
      "cell_type": "code",
      "metadata": {
        "id": "tLNdl7WAEitF"
      },
      "source": [
        ""
      ],
      "execution_count": null,
      "outputs": []
    },
    {
      "cell_type": "code",
      "metadata": {
        "id": "BUBXeHkIKT2g"
      },
      "source": [
        "## Bu func'i nerelerde kullanabiliriz? \n",
        "\n",
        "# mesela bir sirketin finans departmanin da calisiyoruz ve sirketin aylik \n",
        "# kazanclarini ciro ve giderler olarak ayri ayri listelerde tutuyoruz.\n",
        "# yil sonunda tüm yilin kar, ciro ve masraf miktarini hesaplayabiliriz \n",
        "\n",
        "aylikciro = [10000, 12000, 20000, 50000, 100000]\n",
        "aylikmaliyet = [5000, 6000, 10000, 25000, 50000]\n",
        "\n",
        "topciro = sum(aylikciro)\n",
        "topmaliyet = sum(aylikmaliyet)\n",
        "\n",
        "print(topciro)\n",
        "print(topmaliyet)\n",
        "\n",
        "# aylik kar hesaplama(her bir ayin cirosundan o ayin maliyetini cikaracagiz)\n",
        "\n",
        "aylikkar = []\n",
        "\n",
        "for i, j in zip(aylikciro, aylikmaliyet):\n",
        "  kar = i -j\n",
        "  aylikkar.append(kar)\n",
        "print(aylikkar)\n",
        "\n",
        "## simdi de toplam yillik kari hesaplayalim\n",
        "\n",
        "toplamkar = sum(aylikkar)  # yada\n",
        "toplamkar2 = topciro - topmaliyet\n",
        "\n",
        "print(toplamkar)\n",
        "print(toplamkar2)"
      ],
      "execution_count": null,
      "outputs": []
    },
    {
      "cell_type": "code",
      "metadata": {
        "id": "0g82XysFKT8W"
      },
      "source": [
        "# bos iterable ile sum()\n",
        "\n",
        "a = []\n",
        "print(sum(a))           # output?\n",
        "\n",
        "print(sum(a, 10))       # output?"
      ],
      "execution_count": null,
      "outputs": []
    },
    {
      "cell_type": "code",
      "metadata": {
        "id": "R8bzIVXbOOD5"
      },
      "source": [
        "# sum() func icerisine direkt olarak bir iterable da yazilabilir\n",
        "# ancak sadece tek bir iterable alir\n",
        "\n",
        "print(sum([10000, 12000, 20000, 50000, 100000]))"
      ],
      "execution_count": null,
      "outputs": []
    },
    {
      "cell_type": "code",
      "metadata": {
        "id": "w9ipB53YOcxJ"
      },
      "source": [
        "print(sum(1, 2, 3, 4, 5))    # output?"
      ],
      "execution_count": null,
      "outputs": []
    },
    {
      "cell_type": "code",
      "metadata": {
        "id": "Kj2CBLx6Oc0A"
      },
      "source": [
        "## herhangi bir func() ' a ait parantez icerisinde yazdigimiz ve virgüller ile\n",
        "# ayrilmis her bir deger bir argümandir\n",
        "\n",
        "\n",
        "# max ile sum arasindaki en büyük fark sudur:\n",
        "# sum tek bir iterable alirken\n",
        "# max hem tek bir iterable alir , hem de birden fazla deger alabilir \n",
        "\n",
        "print(max(1, 2, 3, 4, 5))\n",
        "# print(sum(1, 2, 3, 4, 5)) # error"
      ],
      "execution_count": null,
      "outputs": []
    },
    {
      "cell_type": "code",
      "metadata": {
        "id": "e4NSnXEtOc20"
      },
      "source": [
        ""
      ],
      "execution_count": null,
      "outputs": []
    },
    {
      "cell_type": "code",
      "metadata": {
        "id": "TeF1R3sfPnZG"
      },
      "source": [
        "############  round()  func\n",
        "\n",
        "# sayilarda yuvarlama islevi görür\n",
        "# ana yapi su sekildedir:\n",
        "\n",
        "# round(number, ndigits=None)  # virgülden sonra basamak kismi default olarak None dir.\n",
        "\n",
        "print(round(12))\n",
        "print(round(12, 2))                   ##   outputlar nasildir?\n",
        "print(round(10.8))\n",
        "print(round(10.8, 5))\n",
        "print(round(3.665, 2))\n",
        "print(round(3.675, 2))\n",
        "print(round(3.123456789, 5))"
      ],
      "execution_count": null,
      "outputs": []
    },
    {
      "cell_type": "code",
      "metadata": {
        "id": "iOY87eqNPnb0"
      },
      "source": [
        "# Not: rakamlar binary sistem üzerinden calistigi icin float rakamlarda\n",
        "# pc den pc ye farkliliklar görülebilir\n",
        "# mesela 3.675'in orjinal hali 3.6746570565065095640956495645444   seklindedir\n",
        "# Bu nedenle bakildiginda 3. 675 yani yukaridaki degere yuvarlanir gibi \n",
        "# görünseler de bu sayilar round func icerisine girdiginde asagiya yuvarlanir\n",
        "\n",
        "# The behavior of round() for floats can be surprising: \n",
        "# for example, round(2.675, 2) gives 2.67 instead of the \n",
        "# expected 2.68. This is not a bug: it’s a result of the \n",
        "# fact that most decimal fractions can’t be represented exactly as a float"
      ],
      "execution_count": null,
      "outputs": []
    },
    {
      "cell_type": "code",
      "metadata": {
        "id": "7iU-f2OSGdKt"
      },
      "source": [
        "# map"
      ],
      "execution_count": null,
      "outputs": []
    },
    {
      "cell_type": "code",
      "metadata": {
        "id": "weZnK6TYH7Mt"
      },
      "source": [
        "# eval"
      ],
      "execution_count": null,
      "outputs": []
    },
    {
      "cell_type": "code",
      "metadata": {
        "id": "hMD_ZX7AH7Ox"
      },
      "source": [
        "# sorted(iterable)"
      ],
      "execution_count": null,
      "outputs": []
    },
    {
      "cell_type": "code",
      "metadata": {
        "id": "IY4ybf1pH7Qr"
      },
      "source": [
        "# open()  dosya veya herhangi birsey acma kapamaya yarar"
      ],
      "execution_count": null,
      "outputs": []
    },
    {
      "cell_type": "code",
      "metadata": {
        "id": "CwwBSepEH7TV"
      },
      "source": [
        "# dir([object])    icerik listeler"
      ],
      "execution_count": null,
      "outputs": []
    },
    {
      "cell_type": "code",
      "metadata": {
        "id": "Q8BRpWhSIHlH"
      },
      "source": [
        "# help(object)  "
      ],
      "execution_count": null,
      "outputs": []
    },
    {
      "cell_type": "code",
      "metadata": {
        "id": "rZO_HE9LIHnT"
      },
      "source": [
        "### hatirlatma:\n",
        "\n",
        "# eger sayilardan olusan bir listeye ihtiyac duyarsak \n",
        "# range func(),  collection type larin func() lari ile kombineli olarak kullanilabilir\n",
        "# ve bunun icerisinde detayli slayslama yada indexleme yapilabilir\n",
        "\n",
        "# mesela 5 den 20 ye kadar olan tek sayilar yada cift sayilar\n",
        "# Bu durumlarda, bazen döngüleri kullanmadan da islerimizi yapabiliriz\n",
        "\n",
        "a = list(range(5, 20, 2))\n",
        "b = tuple(range(6, 20, 2))\n",
        "\n",
        "print(a)\n",
        "print(b)"
      ],
      "execution_count": null,
      "outputs": []
    },
    {
      "cell_type": "code",
      "metadata": {
        "id": "6QH6kIsYIHpO"
      },
      "source": [
        ""
      ],
      "execution_count": null,
      "outputs": []
    },
    {
      "cell_type": "code",
      "metadata": {
        "id": "Sni6l4roIHrg"
      },
      "source": [
        "##################  defining a function\n"
      ],
      "execution_count": null,
      "outputs": []
    },
    {
      "cell_type": "code",
      "metadata": {
        "id": "MBssjb3NmHVp"
      },
      "source": [
        "# bir func olustururken ana yapimiz su sekildedir:\n",
        "\n",
        "def functionname(parameter(s)):  ##  bu iki satirda yaptigimiz isleme defining a func denir\n",
        "  execution body         \n",
        "\n",
        "# python da bu yapi evrenseldir. for, while  ve if yapilarin da da aynidir"
      ],
      "execution_count": null,
      "outputs": []
    },
    {
      "cell_type": "code",
      "metadata": {
        "id": "pFKMCVaumHXs"
      },
      "source": [
        "#  python orjinal dökümanlarinda bile argüment ile parametre bazi yerlerde \n",
        "# birbirlerinin yerine kullanilirlar\n",
        "# ama temelde bir fark vardir:\n",
        "\n",
        "# func() tanimlanirken kullandigimiz degiskenlere parametre denir\n",
        "# ancak func() cagirirken kullandigimiz degiskenlere argüman denir\n",
        "# yani bu durumda yapimiz su sekilde olur\n",
        "\n",
        "def functionname(parameter1, parameter2):\n",
        "  print(parameter1 * parameter2)\n",
        "\n",
        "functionname(argument1, argument2)  "
      ],
      "execution_count": null,
      "outputs": []
    },
    {
      "cell_type": "code",
      "metadata": {
        "id": "aZ_C7mNkIHs2"
      },
      "source": [
        "# hipotenüs hesaplayan bir func tanimlayalim\n",
        "\n",
        "def hipotenüs(a, b):   # bunlar parametre\n",
        "  print(\"Hipotenüs = \", (a ** 2 + b ** 2) ** 0.5)\n",
        "\n",
        "hipotenüs(3, 4)      ##  argümanlar"
      ],
      "execution_count": null,
      "outputs": []
    },
    {
      "cell_type": "code",
      "metadata": {
        "id": "dhXw6UWRnlhI"
      },
      "source": [
        "def carpma(a, b):\n",
        "  print(a * b)\n",
        "\n",
        "carpma(\"computer \", 5)\n",
        "\n",
        "##  Dikkat: Burada aslinda bir assigning islemi vardir.\n",
        "# Yani a yerine \"computer\", b yerine de 5 assign edildi"
      ],
      "execution_count": null,
      "outputs": []
    },
    {
      "cell_type": "code",
      "metadata": {
        "id": "0DR8e37XnljV"
      },
      "source": [
        "## her fonksiyonun parametresi olmak zorunda degildir\n",
        "\n",
        "def slogan():\n",
        "  print(\"Kendini kesfetmekten korkma\")\n",
        "\n",
        "slogan()\n",
        "\n",
        "# Bu tarz func' lari split(), sort(). pop() methodlari gibi düsünebiliriz.\n",
        "# Bu tarz func'larin yada methodlarin icerisinde daha önce tanimlanmis islemler vardir.\n",
        "\n",
        "# Biz parantez icerisine hicbir sey yazmamamiza ragmen o kendinde default\n",
        "# olarak tanimlanmis islemi yapar.\n",
        "\n",
        "# örnegin:"
      ],
      "execution_count": null,
      "outputs": []
    },
    {
      "cell_type": "code",
      "metadata": {
        "id": "teVZv6wtI1Tf"
      },
      "source": [
        "liste = [1, 2, 3, 4, 5]\n",
        "liste.pop()\n",
        "\n",
        "print(liste)"
      ],
      "execution_count": null,
      "outputs": []
    },
    {
      "cell_type": "code",
      "metadata": {
        "id": "9Wwxnko7nllN"
      },
      "source": [
        "def toplama(a, b, c):\n",
        "  print(a + b + c)\n",
        "\n",
        "toplama(\"4\", \"4\", \"4\")"
      ],
      "execution_count": null,
      "outputs": []
    },
    {
      "cell_type": "code",
      "metadata": {
        "id": "PSIv1664nlnC"
      },
      "source": [
        "# basit bir hesap makinesini func olarak tanimlama:\n",
        "# 3 parametre alacagiz. Bunlardan ilk 2 tanesi sayi 3. ise yapilacak islemdir\n",
        "\n",
        "def hesap(a, b, c):\n",
        "  if c == \"+\":\n",
        "    print(a + b)\n",
        "  elif c == \"-\":\n",
        "    print(a - b)\n",
        "  elif c == \"/\":\n",
        "    print(a / b)\n",
        "  elif c == \"*\":\n",
        "    print(a * b)\n",
        "  else:\n",
        "    print(\"Gecersiz bir deger girdiniz\")\n",
        "\n",
        "hesap(10, 2, \"+\")\n",
        "hesap(10, 2, \"-\")\n",
        "hesap(10, 2, \"/\")\n",
        "hesap(10, 2, \"*\")\n",
        "hesap(10, 2, \"**\")"
      ],
      "execution_count": null,
      "outputs": []
    },
    {
      "cell_type": "code",
      "metadata": {
        "id": "p4tc3g19nlow"
      },
      "source": [
        ""
      ],
      "execution_count": null,
      "outputs": []
    },
    {
      "cell_type": "code",
      "metadata": {
        "id": "lnx8xCuHtfRo"
      },
      "source": [
        "#################   Execution of a function     ###############"
      ],
      "execution_count": null,
      "outputs": []
    },
    {
      "cell_type": "code",
      "metadata": {
        "id": "ZYGFQtUItfT3"
      },
      "source": [
        "# print ve return farkli seylerdir.\n",
        "\n",
        "# Dikkat edersek Bizim kullandigimiz bütün built in func' lar bir sonuc döndürür.\n",
        "# Ancak biz bu sonucu print etmedigimiz takdirde herhangi bir sonuc alamayiz.\n",
        "\n",
        "# örnegin:\n",
        "\n",
        "liste = [10, 5, 9, 2, 0, 8]\n",
        "\n",
        "sorted(liste)    ## Burada aldigimiz sonuc colab' in kendi özelligidir. Aslinda\n",
        "                  # normal bir python kod yaziminda biz bu sekilde bir kod yazdigimizda\n",
        "                  # hicbir sonuc alamayiz.\n",
        "\n",
        "                  # Peki Burada sorted func() bize ne döndürdü?\n",
        "                  # Bize listemizin kücükten büyüge dogru siralanmis halini döndürdü"
      ],
      "execution_count": null,
      "outputs": []
    },
    {
      "cell_type": "code",
      "metadata": {
        "id": "LSJ-pcHxtfVu"
      },
      "source": [
        "liste = [10, 5, 9, 2, 0, 8]\n",
        "max(liste)          # # ayni sekilde max func() bize listemizin en büyük elemanini döndürdü\n",
        "\n",
        "                    # yani buradan su cikmaktadir. print() haricinde hicbir\n",
        "                    # built in func() 'in print etme özelligi yoktur.\n",
        "                    # func lar bir deger döndürür biz de görmek istedigimiz degeri print ederiz        "
      ],
      "execution_count": null,
      "outputs": []
    },
    {
      "cell_type": "code",
      "metadata": {
        "id": "s_U_oheTtfX5"
      },
      "source": [
        "# simdi ise return islemini kendimiz define ettigimiz bir func()  da görelim\n",
        "\n",
        "def carpma(a, b, c):\n",
        "  return a * b * c\n",
        "\n",
        "## burada func' i cagirmadigimiz sürece herhangi bir sonuc alamayiz"
      ],
      "execution_count": null,
      "outputs": []
    },
    {
      "cell_type": "code",
      "metadata": {
        "id": "HMY0ya3ltfZj"
      },
      "source": [
        "# return ve print kullandigimizda veri tipleri de farkli olacaktir.\n",
        "\n",
        "def carpma(a, b, c):\n",
        "  return a * b * c\n",
        "\n",
        "print(type(carpma(2, 4, 5)))"
      ],
      "execution_count": null,
      "outputs": []
    },
    {
      "cell_type": "code",
      "metadata": {
        "id": "hrO3Hoo3tfbu"
      },
      "source": [
        "def carpma(a, b, c):\n",
        "  print(a * b * c)\n",
        "\n",
        "print(type(carpma(2, 4, 5)))"
      ],
      "execution_count": null,
      "outputs": []
    },
    {
      "cell_type": "code",
      "metadata": {
        "id": "LCWyb3sPJ4Pj"
      },
      "source": [
        "## Bunun sebebi sudur:\n",
        "# Biz bir func defining yaparken print kullanirsak,ve daha sonra bunu\n",
        "# print func ile print etmek istersek,  ayni asagida oldugu gibi\n",
        "# print icerisinde print kullanmis oluruz.\n",
        "\n",
        "# Bu durumda da type imiz none type olur\n",
        "\n",
        "a = [1, 2, 3]\n",
        "print(type(print(a)))"
      ],
      "execution_count": null,
      "outputs": []
    },
    {
      "cell_type": "code",
      "metadata": {
        "id": "inTKl4Zbkhmd"
      },
      "source": [
        "## Dikkat:  Nasil ki bir degiskeni print ettigimizde o degiskenin kendisi degil\n",
        "# valuesu print ediliyorsa, ayni sekilde bir fonksiyonu cagirdigimizda da \n",
        "# o fonksiyonun karsiligi olan deger print edilir. Örnegin:\n",
        "\n",
        "a = 1234\n",
        "print(a)  #  degisken value iliskisi\n",
        "\n",
        "def a():\n",
        "  return 1234\n",
        "\n",
        "a()   # Dikkat edersek burada print ettirmedik, buna ragmen a'yi cagirdigimizda 1234 geldi"
      ],
      "execution_count": null,
      "outputs": []
    },
    {
      "cell_type": "code",
      "metadata": {
        "id": "Wukw-MINkhrd"
      },
      "source": [
        "##  fonksiyonlarin bu özelligini her yerde kullanabiliriz:\n",
        "\n",
        "def a():\n",
        "  return True         ## True döndüren bir func yazdik\n",
        "\n",
        "if a():                  # burada a func() bize True döndürür. Bu nedenle if calisir\n",
        "  print(\"ali\")          \n",
        "\n",
        "\n",
        "# matematiksel olarak baktigimizda a() = \"ali\"  diyebiliriz"
      ],
      "execution_count": null,
      "outputs": []
    },
    {
      "cell_type": "code",
      "metadata": {
        "id": "geoJUG8jkh1X"
      },
      "source": [
        "## diger bir örnek:\n",
        "\n",
        "listem = [1, 2, 3, 4, 5]\n",
        "print(listem)\n",
        "\n",
        "\n",
        "def listem():\n",
        "  return [1, 2, 3, 4, 5]\n",
        "\n",
        "# artik listem func() 'i cagirdigimizda bize liste gelecektir. Dolayisi ile\n",
        "# biz bu listeyi artik her yerde kullanabiliriz. Mesela for döngüsünde:\n",
        "\n",
        "for i in listem():        ##  dikkat: () unutmuyoruz\n",
        "  print(i)\n",
        "                          ## buradaki listem isimli func bir iterable' a esittir "
      ],
      "execution_count": null,
      "outputs": []
    },
    {
      "cell_type": "code",
      "metadata": {
        "id": "FLa7iaX7pZYV"
      },
      "source": [
        "#  listeden tuple'a cevirme islemlerini ayni sekilde func ' da da yapabiliirz\n",
        "\n",
        "listem = [1, 2, 3, 4, 5]   ## normal islem\n",
        "\n",
        "tuplem = tuple(listem)\n",
        "print(tuplem)\n",
        "\n",
        "\n",
        "def listem():\n",
        "  return [1, 2, 3, 4, 5]\n",
        "\n",
        "new = tuple(listem())     ### dikkat ()\n",
        "print(new)"
      ],
      "execution_count": null,
      "outputs": []
    },
    {
      "cell_type": "code",
      "metadata": {
        "id": "arqHJhnypZbG"
      },
      "source": [
        "##  Bu func bir liste oldugu icin, bunun üzerinde indexleme slayslama da \n",
        "# yapabiliriz:\n",
        "\n",
        "def listem():\n",
        "  return [1, 2, 3, 4, 5]\n",
        "\n",
        "print(listem()[2])   ##  Dikkat () unutmayalim\n",
        "\n",
        "print(listem()[::-1])\n",
        "\n",
        "print(listem()[1:4])"
      ],
      "execution_count": null,
      "outputs": []
    },
    {
      "cell_type": "code",
      "metadata": {
        "id": "gmy8oJg6pZdS"
      },
      "source": [
        "#  append gibi methodlar calisir mi peki?\n",
        "\n",
        "def listem():\n",
        "  return [5, 4, 3, 2, 1]\n",
        "\n",
        "listem().append(6)\n",
        "print(listem())      ## output nedir\n",
        "\n",
        "print(sorted(listem()))   ## output nedir\n",
        "\n",
        "listem().insert(1,8)     ## output nedir?\n",
        "print(listem())"
      ],
      "execution_count": null,
      "outputs": []
    },
    {
      "cell_type": "code",
      "metadata": {
        "id": "ErFYaOSxpZfZ"
      },
      "source": [
        ""
      ],
      "execution_count": null,
      "outputs": []
    },
    {
      "cell_type": "code",
      "metadata": {
        "id": "jOMoEi6Ptfd1",
        "colab": {
          "base_uri": "https://localhost:8080/",
          "height": 36
        },
        "outputId": "15b6e6ac-5c32-43c7-f2af-c0b395e74e90"
      },
      "source": [
        "## hesap makinesini return ile yapalim:\n",
        "\n",
        "def hesap2(a, b, c):\n",
        "  if c == \"+\":\n",
        "    return (a + b)\n",
        "  elif c == \"-\":\n",
        "    return (a - b)\n",
        "  elif c == \"/\":\n",
        "    return (a / b)\n",
        "  elif c == \"*\":\n",
        "    return (a * b)\n",
        "  else:\n",
        "    return \"Gecersiz bir deger girdiniz\"\n",
        "\n",
        "hesap2(10, 2, \"+\")\n",
        "hesap2(10, 2, \"-\")\n",
        "hesap2(10, 2, \"/\")\n",
        "hesap2(10, 2, \"*\")\n",
        "hesap2(10, 2, \"**\")\n",
        "\n",
        "# Dikkat: Bu kodu yukarida print ile olusturdugumuzda, alt alta her cagirdigimizda\n",
        "# hepsinden de output almistik. Ama burada return ile yaptigimizda sadece\n",
        "# en son satirin outputunu verdi. Bunun sebebi sudur:\n",
        "\n",
        "# bizim bu fonksiyonu her cagirdigimizda bunu print etmemiz gerekir.\n",
        "# biz ise burada print etmedigimiz icin colab in özelligi geregi sadece son\n",
        "# satir  print edildi\n",
        "\n",
        "# yani sonuc olarak sunu söyleyebiliriz. print ile return farkli seylerdir.\n",
        "# print sadece output'u ekrana yazdirir. return ise func icerisinde kullandigimiz\n",
        "# degeri func' in kendisine esitler"
      ],
      "execution_count": null,
      "outputs": [
        {
          "output_type": "execute_result",
          "data": {
            "application/vnd.google.colaboratory.intrinsic+json": {
              "type": "string"
            },
            "text/plain": [
              "'Gecersiz bir deger girdiniz'"
            ]
          },
          "metadata": {},
          "execution_count": 27
        }
      ]
    },
    {
      "cell_type": "code",
      "metadata": {
        "id": "MRLL0NllRRij"
      },
      "source": [
        "## burada da en alt satirda print kullanalim\n",
        "# output ne olur ??\n",
        "\n",
        "def hesap2(a, b, c):\n",
        "  if c == \"+\":\n",
        "    return (a + b)\n",
        "  elif c == \"-\":\n",
        "    return (a - b)\n",
        "  elif c == \"/\":\n",
        "    return (a / b)\n",
        "  elif c == \"*\":\n",
        "    return (a * b)\n",
        "  else:\n",
        "    return \"Gecersiz bir deger girdiniz\"\n",
        "\n",
        "hesap2(10, 2, \"+\")\n",
        "hesap2(10, 2, \"-\")\n",
        "hesap2(10, 2, \"/\")\n",
        "hesap2(10, 2, \"*\")\n",
        "hesap2(10, 2, \"**\")\n",
        "\n",
        "print(hesap2(10, 2, \"*\"))  "
      ],
      "execution_count": null,
      "outputs": []
    },
    {
      "cell_type": "code",
      "metadata": {
        "id": "SFmZc-0EiXQ8"
      },
      "source": [
        "# derste yaptigimiz kahoot\n",
        "\n",
        "count = 0   ## output nedir?\n",
        "\n",
        "for i in [\"bus\"]:\n",
        "  count += 1\n",
        "  print(i, count, end = \"\")"
      ],
      "execution_count": null,
      "outputs": []
    },
    {
      "cell_type": "code",
      "metadata": {
        "id": "lPAPBUzAiXTa"
      },
      "source": [
        "## Kullanicinin girdigi sayinin absolute degerini yazdiran bir func yazalim:\n",
        "\n",
        "def absolute(a):\n",
        "  if a < 0:\n",
        "    return -a\n",
        "  else:\n",
        "    return a\n",
        "\n",
        "girdi = int(input(\"Lütfen bir sayi giriniz: \"))\n",
        "\n",
        "absolute(girdi)"
      ],
      "execution_count": null,
      "outputs": []
    },
    {
      "cell_type": "code",
      "metadata": {
        "id": "18BgWG7giXV0"
      },
      "source": [
        "# Bizim yazmis oldugumuz bu kod ile ayni vazifeyi yapan birde abs()\n",
        "# func vardir. Bu func built in func dir ve kullanima hazirdir.\n",
        "\n",
        "# calisma prensibi su sekildedir:\n",
        "\n",
        "# abs(argument)\n",
        "\n",
        "# Dikkat:  abs()  func sadece tek bir argüman alir. daha fazla almaz\n"
      ],
      "execution_count": null,
      "outputs": []
    },
    {
      "cell_type": "code",
      "metadata": {
        "id": "e4qS-RCmSNUm"
      },
      "source": [
        "# simdi bununla ilgili birkac örnek yapalim:\n",
        "\n",
        "mutlak = abs(-3)      # output?\n",
        "\n",
        "print(mutlak)"
      ],
      "execution_count": null,
      "outputs": []
    },
    {
      "cell_type": "code",
      "metadata": {
        "id": "OaB_00LZSzv6"
      },
      "source": [
        "mutlak = abs(\"ali\")      # output?\n",
        "\n",
        "print(mutlak)"
      ],
      "execution_count": null,
      "outputs": []
    },
    {
      "cell_type": "code",
      "metadata": {
        "id": "0xZmgSAyS5iY"
      },
      "source": [
        "mutlak = abs(-2.6)      # output?\n",
        "\n",
        "print(mutlak)"
      ],
      "execution_count": null,
      "outputs": []
    },
    {
      "cell_type": "code",
      "metadata": {
        "id": "aM5DqP_A8TTG"
      },
      "source": [
        "mutlak = abs(0)\n",
        "print(mutlak)"
      ],
      "execution_count": null,
      "outputs": []
    },
    {
      "cell_type": "code",
      "metadata": {
        "id": "NNU1kRvE8TVf"
      },
      "source": [
        "##  simdi de matematiksel olarak bir mutlak deger sorusu cözelim:\n",
        "\n",
        "## |6 – 2| + |2 – 5| – |1 + 4| = ?   ##  output nedir ?\n",
        "\n",
        "a = 6 -2\n",
        "b = 2 - 5\n",
        "c = 1 + 4\n",
        "\n",
        "print(abs(a) + abs(b) - abs(c))"
      ],
      "execution_count": null,
      "outputs": []
    },
    {
      "cell_type": "code",
      "metadata": {
        "id": "qoWlSL6i8TXe"
      },
      "source": [
        "####  fonksiyonlarda docstring yazimi:\n",
        "\n",
        "# docstring ne demektir ?\n",
        "\n",
        "# bu isim document dan gelmektedir ve bir func' a ait olan dökümantasyonu icerir\n",
        "\n",
        "# fonksiyonun ilk satirindan hemen sonra yazilir.\n",
        "\n",
        "# peki bir func' a ait olan docstring nasil okunur ? \n",
        "\n",
        "# functionname.__doc__   yazarak görüntüleyebiliriz\n",
        "\n",
        "def absolute(a):\n",
        "  \"Bu fonksiyon girilen sayinin mutlak degerini return eder\"\n",
        "\n",
        "  if a < 0:\n",
        "    return -a\n",
        "  else:\n",
        "    return a\n",
        "\n",
        "girdi = int(input(\"Lütfen bir sayi giriniz: \"))\n",
        "absolute(girdi)\n",
        "\n",
        "print(absolute.__doc__)\n",
        "\n",
        "               ##  Dikkat: Bizim yazmis oldugumuz user defined func'lar artik\n",
        "                # python tarafindan taninmis demektir. Ve bu nedenle colab'in de \n",
        "                # özelligi olarak funcname yazip () parantez acip bekledigimizde\n",
        "                # docstring cikar\n",
        "# absolute()"
      ],
      "execution_count": null,
      "outputs": []
    },
    {
      "cell_type": "code",
      "metadata": {
        "id": "Rq5GQmOz8TZ4"
      },
      "source": [
        "## simdi de abs func orjinal docstringini okuyalim\n",
        "\n",
        "print(abs.__doc__)    ## dikkat buraya sadece doc yaziyoruz. docstring degil"
      ],
      "execution_count": null,
      "outputs": []
    },
    {
      "cell_type": "code",
      "metadata": {
        "id": "Nm6y0N3E8Td3"
      },
      "source": [
        "###  tuple lar ile list comprehension yapabilir miyiz ??\n",
        "\n",
        "generate = (i ** 2 for i in range(6))   ## output nedir ?\n",
        "\n",
        "print(generate)         #vvvvvvvv"
      ],
      "execution_count": null,
      "outputs": []
    },
    {
      "cell_type": "code",
      "metadata": {
        "id": "nXbloQvA8TiD"
      },
      "source": [
        "# tuple ile list comprehension yaptigimizda bu bize bir generator object döndürür\n",
        "# Bu durumda Bizim output'u aciga cikarmamiz lazim: \n",
        "\n",
        "generate = (i ** 2 for i in range(6))\n",
        "\n",
        "print(*generate)\n",
        "\n",
        "print(list(generate))   ##  peki burada output nedir?"
      ],
      "execution_count": null,
      "outputs": []
    },
    {
      "cell_type": "code",
      "metadata": {
        "id": "4NRb18aE8TkD"
      },
      "source": [
        "## simdi de for döngüleri icerisinde bulunan ve arka planda calisan \n",
        "# next func' i inceleyelim:\n",
        "\n",
        "generate = (i ** 2 for i in range(6))\n",
        "\n",
        "print(next(generate))   ## dikkat normal de bizim comprehension' imiz liste icinde \n",
        "                        # degil. tuple icerisinde. Yani normal de bir output vermiyor\n",
        "                        # bunun yerine bir generator object döndürüyor.\n",
        "\n",
        "                        # ama next func for döngüsü gibi calistigi icin bu generator\n",
        "                        # objecti aciga cikariyor ve her seferinde bir eleman return ediyor\n",
        "\n",
        "print(next(generate))\n",
        "print(next(generate))\n",
        "print(next(generate))   "
      ],
      "execution_count": null,
      "outputs": []
    },
    {
      "cell_type": "code",
      "metadata": {
        "id": "UpYqXbqz8TtU"
      },
      "source": [
        "#####  Attention Attention:  \n",
        "\n",
        "# next func bizim sahip oldugumuz generator object gibi on the air object lerde \n",
        "# calisir. Yani bizim print edemedigimiz ve * gibi list gibi etkilerle\n",
        "# aciga cikardigimiz object lerde islem görür\n",
        "\n",
        "# Eger biz next func'i normal liste yada tuple larda kullanmak istersek hata aliriz\n",
        "\n",
        "# eger next() yazip beklersek colab bize next hakkinda detayli bilgi verecektir\n",
        "# Bu bilgiler arasinda, next' in bir iterable degil iterator aldigi bilgisi bulunur\n",
        "# iterable ile iterator farkli seylerdir. iterator dedigimiz bir generator dir\n",
        "\n",
        "\n",
        "tuplem = (1,2,3, 4, 5)\n",
        "print(next(tuplem))  ### yada\n",
        "\n",
        "\n",
        "liste = [1,2,3, 4, 5]\n",
        "print(next(liste))"
      ],
      "execution_count": null,
      "outputs": []
    },
    {
      "cell_type": "code",
      "metadata": {
        "colab": {
          "base_uri": "https://localhost:8080/"
        },
        "id": "YTt4qrwP8Txd",
        "outputId": "c450cc72-d835-4211-e7f2-c4777fb89db6"
      },
      "source": [
        "#  next func'i kapali bir object üreten tüm func'lar da kullanabiliriz\n",
        "\n",
        "tuplem = (1, 2)\n",
        "liste = [\"ali\", \"veli\"]\n",
        "\n",
        "zipp = zip(tuplem, liste)\n",
        "\n",
        "print(next(zipp))\n",
        "print(next(zipp))\n",
        "#print(next(zipp))  # bu satirdaki next calisirsa output ne olur ?\n"
      ],
      "execution_count": null,
      "outputs": [
        {
          "output_type": "stream",
          "name": "stdout",
          "text": [
            "(1, 'ali')\n",
            "(2, 'veli')\n"
          ]
        }
      ]
    },
    {
      "cell_type": "code",
      "metadata": {
        "id": "DwzQV5aI8T0W"
      },
      "source": [
        ""
      ],
      "execution_count": null,
      "outputs": []
    },
    {
      "cell_type": "code",
      "metadata": {
        "id": "Zd6kansi8T2Y"
      },
      "source": [
        "## Not:\n",
        "\n",
        "# for loop, * asteriks ve list gibi collection func'lar outputlari\n",
        "# bir cirpida topluca verir. Ama next func tek tek verir"
      ],
      "execution_count": null,
      "outputs": []
    },
    {
      "cell_type": "code",
      "metadata": {
        "id": "DIjKRQma8T4T"
      },
      "source": [
        "generate = (i ** 2 for i in range(10))\n",
        "\n",
        "print(next(generate))\n",
        "print(next(generate))\n",
        "print(next(generate))\n",
        "\n",
        "print(*generate)  ## bu satirdaki kodun ciktisi ne olur ?  "
      ],
      "execution_count": null,
      "outputs": []
    },
    {
      "cell_type": "code",
      "metadata": {
        "id": "L7GRuCf_qn2Z"
      },
      "source": [
        ""
      ],
      "execution_count": null,
      "outputs": []
    },
    {
      "cell_type": "code",
      "metadata": {
        "id": "1MkO0uukqn7H"
      },
      "source": [
        "text= \"Clarusway\"\n",
        "count = 0\n",
        "\n",
        "for i in text : \n",
        "  count += 1\n",
        "  if count < len(text) :\n",
        "    i += \"-\" \n",
        "  print(i, end = \"\")"
      ],
      "execution_count": null,
      "outputs": []
    },
    {
      "cell_type": "code",
      "metadata": {
        "id": "dMA3iKKV7WAN"
      },
      "source": [
        "liste = [(1, 2, 3), (3, 4, 5)]\n",
        "\n",
        "for i, j, k in liste:\n",
        "  print(i, j, k)"
      ],
      "execution_count": null,
      "outputs": []
    },
    {
      "cell_type": "code",
      "metadata": {
        "id": "LbDjMB_K7WCt"
      },
      "source": [
        "numara = int(input(\"\"))\n",
        "\n",
        "for i in range(0,10):\n",
        "  print(\"{}x{} = \" .format(numara, i), numara * i)"
      ],
      "execution_count": null,
      "outputs": []
    },
    {
      "cell_type": "code",
      "metadata": {
        "colab": {
          "base_uri": "https://localhost:8080/"
        },
        "id": "4YRPIvVr7WFX",
        "outputId": "a6b20187-197b-4acc-c460-c57191176756"
      },
      "source": [
        "text = [\"1\", \"2\", \"3\", \"4\"]\n",
        "number = {1, 2, 3, 4}\n",
        "\n",
        "for x, y in zip(text, number):\n",
        "  print(x, y)"
      ],
      "execution_count": null,
      "outputs": [
        {
          "output_type": "stream",
          "name": "stdout",
          "text": [
            "1 1\n",
            "2 2\n",
            "3 3\n",
            "4 4\n"
          ]
        }
      ]
    }
  ]
}